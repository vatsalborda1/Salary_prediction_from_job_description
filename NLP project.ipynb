{
 "cells": [
  {
   "cell_type": "markdown",
   "metadata": {
    "id": "05Duo-TLzNME"
   },
   "source": [
    "# Group work - Assessment 2"
   ]
  },
  {
   "cell_type": "markdown",
   "metadata": {
    "id": "JEqNsM0SzNMI"
   },
   "source": [
    "In this assignment, we will focus on salary prediction. The data set for this assignment includes information on job descriptions and salaries. Use this data set to see if you can predict the salary of a job posting (i.e., the `Salary` column in the data set) based on the job description. This is important, because this model can make a salary recommendation as soon as a job description is entered into a system."
   ]
  },
  {
   "cell_type": "markdown",
   "metadata": {
    "id": "fXNBOBsrzNMJ"
   },
   "source": [
    "## Description of Variables\n",
    "\n",
    "The description of variables are provided in \"Jobs - Data Dictionary.docx\""
   ]
  },
  {
   "cell_type": "markdown",
   "metadata": {
    "id": "8LV8u6-HzNMK"
   },
   "source": [
    "## Goal\n",
    "\n",
    "Use the **jobs_alldata.csv** data set and build models to predict **salary**.\n",
    "\n",
    "**Be careful: this is a REGRESSION task**"
   ]
  },
  {
   "cell_type": "markdown",
   "metadata": {
    "id": "jOSKqrE2zNMK"
   },
   "source": [
    "## Submission:\n",
    "\n",
    "Please save and submit this Jupyter notebook file. The correctness of the code matters for your grade. **Readability and organization of your code is also important.** You may lose points for submitting unreadable/undecipherable code. Therefore, use markdown cells to create sections, and use comments where necessary.\n"
   ]
  },
  {
   "cell_type": "markdown",
   "metadata": {
    "id": "JJAqoZphzNML"
   },
   "source": [
    "## Recommended roles for group members:\n",
    "\n",
    "**Section 1:** to be completed by both group members\n",
    "\n",
    "**Section 2:** first three models to be completed by the first group member and checked by the second; last two models to be completed by the second group members and checked by the first group member.\n",
    "\n",
    "**Discussion:** to be completed by both group members\n",
    "\n",
    "**Important notes:**\n",
    "- Both group members will get the same grade. Therefore, you should check the work of your group member. If they make a mistake, you will be responsible for that mistake too.\n",
    "- Both group members must put in their fair share of effort. Otherwise, those who don't contribute to the assignment will not receive any grade.\n"
   ]
  },
  {
   "cell_type": "markdown",
   "metadata": {
    "id": "WJT84nTQzNMM"
   },
   "source": [
    "# Section 1: (8 points in total)"
   ]
  },
  {
   "cell_type": "markdown",
   "metadata": {
    "id": "MZTjzbhqzNMM"
   },
   "source": [
    "## Data Prep (6 points)"
   ]
  },
  {
   "cell_type": "code",
   "execution_count": 1,
   "metadata": {
    "id": "6OUSz81IzNMN"
   },
   "outputs": [],
   "source": [
    "# Importing Libraries \n",
    "\n",
    "import pandas as pd \n",
    "import numpy as np \n",
    "import matplotlib.pyplot as plt \n",
    "\n",
    "%matplotlib inline "
   ]
  },
  {
   "cell_type": "code",
   "execution_count": 2,
   "metadata": {
    "colab": {
     "base_uri": "https://localhost:8080/",
     "height": 363
    },
    "id": "e23mB9XdzNMO",
    "outputId": "10879492-36b6-42e2-d101-96080aa4b9b6"
   },
   "outputs": [
    {
     "data": {
      "text/html": [
       "<div>\n",
       "<style scoped>\n",
       "    .dataframe tbody tr th:only-of-type {\n",
       "        vertical-align: middle;\n",
       "    }\n",
       "\n",
       "    .dataframe tbody tr th {\n",
       "        vertical-align: top;\n",
       "    }\n",
       "\n",
       "    .dataframe thead th {\n",
       "        text-align: right;\n",
       "    }\n",
       "</style>\n",
       "<table border=\"1\" class=\"dataframe\">\n",
       "  <thead>\n",
       "    <tr style=\"text-align: right;\">\n",
       "      <th></th>\n",
       "      <th>Salary</th>\n",
       "      <th>Job Description</th>\n",
       "      <th>Location</th>\n",
       "      <th>Min_years_exp</th>\n",
       "      <th>Technical</th>\n",
       "      <th>Comm</th>\n",
       "      <th>Travel</th>\n",
       "    </tr>\n",
       "  </thead>\n",
       "  <tbody>\n",
       "    <tr>\n",
       "      <th>0</th>\n",
       "      <td>67206</td>\n",
       "      <td>Civil Service Title: Regional Director Mental ...</td>\n",
       "      <td>Remote</td>\n",
       "      <td>5</td>\n",
       "      <td>2</td>\n",
       "      <td>3</td>\n",
       "      <td>0</td>\n",
       "    </tr>\n",
       "    <tr>\n",
       "      <th>1</th>\n",
       "      <td>88313</td>\n",
       "      <td>The New York City Comptrollerâ€™s Office Burea...</td>\n",
       "      <td>Remote</td>\n",
       "      <td>5</td>\n",
       "      <td>2</td>\n",
       "      <td>4</td>\n",
       "      <td>10-15</td>\n",
       "    </tr>\n",
       "    <tr>\n",
       "      <th>2</th>\n",
       "      <td>81315</td>\n",
       "      <td>With minimal supervision from the Deputy Commi...</td>\n",
       "      <td>East campus</td>\n",
       "      <td>5</td>\n",
       "      <td>3</td>\n",
       "      <td>3</td>\n",
       "      <td>5-10</td>\n",
       "    </tr>\n",
       "    <tr>\n",
       "      <th>3</th>\n",
       "      <td>76426</td>\n",
       "      <td>OPEN TO CURRENT BUSINESS PROMOTION COORDINATOR...</td>\n",
       "      <td>East campus</td>\n",
       "      <td>1</td>\n",
       "      <td>1</td>\n",
       "      <td>3</td>\n",
       "      <td>0</td>\n",
       "    </tr>\n",
       "    <tr>\n",
       "      <th>4</th>\n",
       "      <td>55675</td>\n",
       "      <td>Only candidates who are permanent in the Princ...</td>\n",
       "      <td>Southeast campus</td>\n",
       "      <td>1</td>\n",
       "      <td>1</td>\n",
       "      <td>3</td>\n",
       "      <td>5-10</td>\n",
       "    </tr>\n",
       "    <tr>\n",
       "      <th>5</th>\n",
       "      <td>88589</td>\n",
       "      <td>The New York City Department of Sanitation (DS...</td>\n",
       "      <td>Remote</td>\n",
       "      <td>1</td>\n",
       "      <td>2</td>\n",
       "      <td>4</td>\n",
       "      <td>10-15</td>\n",
       "    </tr>\n",
       "    <tr>\n",
       "      <th>6</th>\n",
       "      <td>50253</td>\n",
       "      <td>The NYC Law Department is seeking a currently ...</td>\n",
       "      <td>HQ</td>\n",
       "      <td>1</td>\n",
       "      <td>1</td>\n",
       "      <td>3</td>\n",
       "      <td>0</td>\n",
       "    </tr>\n",
       "    <tr>\n",
       "      <th>7</th>\n",
       "      <td>60125</td>\n",
       "      <td>Emergency and Intervention Services (EIS) prov...</td>\n",
       "      <td>HQ</td>\n",
       "      <td>1</td>\n",
       "      <td>1</td>\n",
       "      <td>4</td>\n",
       "      <td>10-15</td>\n",
       "    </tr>\n",
       "    <tr>\n",
       "      <th>8</th>\n",
       "      <td>67548</td>\n",
       "      <td>The NYC Department of Environmental Protection...</td>\n",
       "      <td>HQ</td>\n",
       "      <td>5</td>\n",
       "      <td>2</td>\n",
       "      <td>4</td>\n",
       "      <td>0</td>\n",
       "    </tr>\n",
       "    <tr>\n",
       "      <th>9</th>\n",
       "      <td>48402</td>\n",
       "      <td>The New York City Department of Investigation ...</td>\n",
       "      <td>East campus</td>\n",
       "      <td>5</td>\n",
       "      <td>2</td>\n",
       "      <td>4</td>\n",
       "      <td>0</td>\n",
       "    </tr>\n",
       "  </tbody>\n",
       "</table>\n",
       "</div>"
      ],
      "text/plain": [
       "   Salary                                    Job Description  \\\n",
       "0   67206  Civil Service Title: Regional Director Mental ...   \n",
       "1   88313  The New York City Comptrollerâ€™s Office Burea...   \n",
       "2   81315  With minimal supervision from the Deputy Commi...   \n",
       "3   76426  OPEN TO CURRENT BUSINESS PROMOTION COORDINATOR...   \n",
       "4   55675  Only candidates who are permanent in the Princ...   \n",
       "5   88589  The New York City Department of Sanitation (DS...   \n",
       "6   50253  The NYC Law Department is seeking a currently ...   \n",
       "7   60125  Emergency and Intervention Services (EIS) prov...   \n",
       "8   67548  The NYC Department of Environmental Protection...   \n",
       "9   48402  The New York City Department of Investigation ...   \n",
       "\n",
       "           Location  Min_years_exp  Technical  Comm Travel  \n",
       "0            Remote              5          2     3      0  \n",
       "1            Remote              5          2     4  10-15  \n",
       "2       East campus              5          3     3   5-10  \n",
       "3       East campus              1          1     3      0  \n",
       "4  Southeast campus              1          1     3   5-10  \n",
       "5            Remote              1          2     4  10-15  \n",
       "6                HQ              1          1     3      0  \n",
       "7                HQ              1          1     4  10-15  \n",
       "8                HQ              5          2     4      0  \n",
       "9       East campus              5          2     4      0  "
      ]
     },
     "execution_count": 2,
     "metadata": {},
     "output_type": "execute_result"
    }
   ],
   "source": [
    "# To load dataset \n",
    "\n",
    "job_data = pd.read_csv('jobs_alldata.csv')\n",
    "job_data.head(10)"
   ]
  },
  {
   "cell_type": "code",
   "execution_count": 3,
   "metadata": {
    "colab": {
     "base_uri": "https://localhost:8080/"
    },
    "id": "EBfDuH1szNMP",
    "outputId": "b726cba9-9e3c-4f6d-d40d-832f54611d01"
   },
   "outputs": [
    {
     "name": "stdout",
     "output_type": "stream",
     "text": [
      "<class 'pandas.core.frame.DataFrame'>\n",
      "RangeIndex: 2413 entries, 0 to 2412\n",
      "Data columns (total 7 columns):\n",
      " #   Column           Non-Null Count  Dtype \n",
      "---  ------           --------------  ----- \n",
      " 0   Salary           2413 non-null   int64 \n",
      " 1   Job Description  2413 non-null   object\n",
      " 2   Location         2413 non-null   object\n",
      " 3   Min_years_exp    2413 non-null   int64 \n",
      " 4   Technical        2413 non-null   int64 \n",
      " 5   Comm             2413 non-null   int64 \n",
      " 6   Travel           2413 non-null   object\n",
      "dtypes: int64(4), object(3)\n",
      "memory usage: 132.1+ KB\n"
     ]
    }
   ],
   "source": [
    "# Summary of the dataframe \n",
    "\n",
    "job_data.info()"
   ]
  },
  {
   "cell_type": "code",
   "execution_count": 4,
   "metadata": {
    "colab": {
     "base_uri": "https://localhost:8080/"
    },
    "id": "NTdUVJKUzNMP",
    "outputId": "e3e925f9-98bf-4615-9e31-5b24a248194a"
   },
   "outputs": [
    {
     "data": {
      "text/plain": [
       "(2413, 7)"
      ]
     },
     "execution_count": 4,
     "metadata": {},
     "output_type": "execute_result"
    }
   ],
   "source": [
    "# check the dimensionality of the dataframe \n",
    "\n",
    "job_data.shape"
   ]
  },
  {
   "cell_type": "code",
   "execution_count": 5,
   "metadata": {
    "colab": {
     "base_uri": "https://localhost:8080/"
    },
    "id": "U2SnTVM8zNMQ",
    "outputId": "760b9ed9-3e33-4238-ac4f-1aac6f2fdae3"
   },
   "outputs": [
    {
     "data": {
      "text/plain": [
       "Salary             0\n",
       "Job Description    0\n",
       "Location           0\n",
       "Min_years_exp      0\n",
       "Technical          0\n",
       "Comm               0\n",
       "Travel             0\n",
       "dtype: int64"
      ]
     },
     "execution_count": 5,
     "metadata": {},
     "output_type": "execute_result"
    }
   ],
   "source": [
    "# Check for missing values\n",
    "\n",
    "job_data.isna().sum()"
   ]
  },
  {
   "cell_type": "code",
   "execution_count": 6,
   "metadata": {
    "id": "PyTjGgAwzNMQ"
   },
   "outputs": [],
   "source": [
    "# split the dataset using 75:25 ratio\n",
    "\n",
    "from sklearn.model_selection import train_test_split\n",
    "\n",
    "train_data, test_data = train_test_split(job_data, test_size=0.3, random_state=42)"
   ]
  },
  {
   "cell_type": "code",
   "execution_count": 7,
   "metadata": {
    "id": "Q94Gf4a-zNMQ"
   },
   "outputs": [],
   "source": [
    "# To separate target variable (i.e. Salary) as we don't want to transform it\n",
    "\n",
    "y_train = train_data[['Salary']]\n",
    "y_test = test_data[['Salary']]"
   ]
  },
  {
   "cell_type": "code",
   "execution_count": 8,
   "metadata": {
    "id": "vBJ2iitMzNMQ"
   },
   "outputs": [],
   "source": [
    "# Dropping the target variable from the set of features \n",
    "\n",
    "x_train = train_data.drop(['Salary'], axis=1)\n",
    "x_test = test_data.drop(['Salary'], axis=1)"
   ]
  },
  {
   "cell_type": "code",
   "execution_count": 9,
   "metadata": {
    "colab": {
     "base_uri": "https://localhost:8080/"
    },
    "id": "8uWtv1PVzNMR",
    "outputId": "f131161d-fc05-4229-bb91-9b9195002f71"
   },
   "outputs": [
    {
     "name": "stderr",
     "output_type": "stream",
     "text": [
      "[nltk_data] Downloading package stopwords to\n",
      "[nltk_data]     C:\\Users\\Vatsal\\AppData\\Roaming\\nltk_data...\n",
      "[nltk_data]   Package stopwords is already up-to-date!\n",
      "[nltk_data] Downloading package wordnet to\n",
      "[nltk_data]     C:\\Users\\Vatsal\\AppData\\Roaming\\nltk_data...\n",
      "[nltk_data]   Package wordnet is already up-to-date!\n",
      "[nltk_data] Downloading package punkt to\n",
      "[nltk_data]     C:\\Users\\Vatsal\\AppData\\Roaming\\nltk_data...\n",
      "[nltk_data]   Package punkt is already up-to-date!\n"
     ]
    },
    {
     "data": {
      "text/plain": [
       "True"
      ]
     },
     "execution_count": 9,
     "metadata": {},
     "output_type": "execute_result"
    }
   ],
   "source": [
    "# using NLTK \n",
    "\n",
    "import nltk\n",
    "from nltk.corpus import stopwords\n",
    "import re\n",
    "\n",
    "nltk.download('stopwords')\n",
    "nltk.download('wordnet')\n",
    "nltk.download('punkt')"
   ]
  },
  {
   "cell_type": "code",
   "execution_count": 10,
   "metadata": {
    "id": "oWX8jK7CzNMR"
   },
   "outputs": [],
   "source": [
    "new_train_processed_data = []\n",
    "\n",
    "\n",
    "# For each row in train_data, we will read the text, tokenize it, remove stopwords, lemmatize it, \n",
    "# and save it to the new list new_train_processed_data\n",
    "\n",
    "for text in train_data['Job Description']:\n",
    "    text = re.sub(r'[!\"#$%&()*+,-./:;<=>?[\\]^_`{|}~]', ' ', text).lower()\n",
    "\n",
    "    text = re.sub('[0-9]+\\S+|\\s\\d+\\s|\\w+[0-9]+|\\w+[\\*]+.*|\\s[\\*]+\\s|www\\.[^\\s]+','',text)\n",
    "        \n",
    "    words= nltk.tokenize.word_tokenize(text)\n",
    "    words = [w for w in words if w.isalpha()]\n",
    "    words = [w for w in words if len(w)>2 and w not in stopwords.words('english')]\n",
    "        \n",
    "    lemmatizer = nltk.stem.WordNetLemmatizer()\n",
    "    words = [lemmatizer.lemmatize(w) for w in words]\n",
    "    new_train_processed_data.append(' '.join(words))"
   ]
  },
  {
   "cell_type": "code",
   "execution_count": 11,
   "metadata": {
    "colab": {
     "base_uri": "https://localhost:8080/",
     "height": 423
    },
    "id": "v3vd9Ro1zNMS",
    "outputId": "4d5fd734-a50d-42d0-dacd-a7628fe1500d"
   },
   "outputs": [
    {
     "name": "stderr",
     "output_type": "stream",
     "text": [
      "<ipython-input-11-dbcfeb2f53ff>:1: SettingWithCopyWarning: \n",
      "A value is trying to be set on a copy of a slice from a DataFrame.\n",
      "Try using .loc[row_indexer,col_indexer] = value instead\n",
      "\n",
      "See the caveats in the documentation: https://pandas.pydata.org/pandas-docs/stable/user_guide/indexing.html#returning-a-view-versus-a-copy\n",
      "  train_data['processed_job_description'] = new_train_processed_data\n"
     ]
    },
    {
     "data": {
      "text/html": [
       "<div>\n",
       "<style scoped>\n",
       "    .dataframe tbody tr th:only-of-type {\n",
       "        vertical-align: middle;\n",
       "    }\n",
       "\n",
       "    .dataframe tbody tr th {\n",
       "        vertical-align: top;\n",
       "    }\n",
       "\n",
       "    .dataframe thead th {\n",
       "        text-align: right;\n",
       "    }\n",
       "</style>\n",
       "<table border=\"1\" class=\"dataframe\">\n",
       "  <thead>\n",
       "    <tr style=\"text-align: right;\">\n",
       "      <th></th>\n",
       "      <th>Salary</th>\n",
       "      <th>Job Description</th>\n",
       "      <th>Location</th>\n",
       "      <th>Min_years_exp</th>\n",
       "      <th>Technical</th>\n",
       "      <th>Comm</th>\n",
       "      <th>Travel</th>\n",
       "      <th>processed_job_description</th>\n",
       "    </tr>\n",
       "  </thead>\n",
       "  <tbody>\n",
       "    <tr>\n",
       "      <th>429</th>\n",
       "      <td>63407</td>\n",
       "      <td>Only candidates who are permanent in the Compu...</td>\n",
       "      <td>HQ</td>\n",
       "      <td>1</td>\n",
       "      <td>3</td>\n",
       "      <td>4</td>\n",
       "      <td>0</td>\n",
       "      <td>candidate permanent computer system manager ti...</td>\n",
       "    </tr>\n",
       "    <tr>\n",
       "      <th>1185</th>\n",
       "      <td>111372</td>\n",
       "      <td>NYCERS is seeking a Business Analyst with a te...</td>\n",
       "      <td>HQ</td>\n",
       "      <td>5</td>\n",
       "      <td>3</td>\n",
       "      <td>2</td>\n",
       "      <td>10-15</td>\n",
       "      <td>nycers seeking business analyst technical back...</td>\n",
       "    </tr>\n",
       "    <tr>\n",
       "      <th>2116</th>\n",
       "      <td>79054</td>\n",
       "      <td>The NYC Department of Environmental Protection...</td>\n",
       "      <td>HQ</td>\n",
       "      <td>1</td>\n",
       "      <td>3</td>\n",
       "      <td>5</td>\n",
       "      <td>0</td>\n",
       "      <td>nyc department environmental protection dep pr...</td>\n",
       "    </tr>\n",
       "    <tr>\n",
       "      <th>2127</th>\n",
       "      <td>67864</td>\n",
       "      <td>Only Candidates permanent in the Assistant Civ...</td>\n",
       "      <td>Southeast campus</td>\n",
       "      <td>5</td>\n",
       "      <td>4</td>\n",
       "      <td>3</td>\n",
       "      <td>0</td>\n",
       "      <td>candidate permanent assistant civil engineer t...</td>\n",
       "    </tr>\n",
       "    <tr>\n",
       "      <th>458</th>\n",
       "      <td>88695</td>\n",
       "      <td>Please read this posting carefully to make cer...</td>\n",
       "      <td>Remote</td>\n",
       "      <td>1</td>\n",
       "      <td>1</td>\n",
       "      <td>3</td>\n",
       "      <td>0</td>\n",
       "      <td>please read posting carefully make certain mee...</td>\n",
       "    </tr>\n",
       "    <tr>\n",
       "      <th>...</th>\n",
       "      <td>...</td>\n",
       "      <td>...</td>\n",
       "      <td>...</td>\n",
       "      <td>...</td>\n",
       "      <td>...</td>\n",
       "      <td>...</td>\n",
       "      <td>...</td>\n",
       "      <td>...</td>\n",
       "    </tr>\n",
       "    <tr>\n",
       "      <th>1638</th>\n",
       "      <td>44366</td>\n",
       "      <td>NYC Civilian Complaint Review Board  The Civil...</td>\n",
       "      <td>HQ</td>\n",
       "      <td>2</td>\n",
       "      <td>3</td>\n",
       "      <td>3</td>\n",
       "      <td>0</td>\n",
       "      <td>nyc civilian complaint review board civilian c...</td>\n",
       "    </tr>\n",
       "    <tr>\n",
       "      <th>1095</th>\n",
       "      <td>52753</td>\n",
       "      <td>The NYC Department of Environmental Protection...</td>\n",
       "      <td>HQ</td>\n",
       "      <td>1</td>\n",
       "      <td>3</td>\n",
       "      <td>4</td>\n",
       "      <td>0</td>\n",
       "      <td>nyc department environmental protection dep en...</td>\n",
       "    </tr>\n",
       "    <tr>\n",
       "      <th>1130</th>\n",
       "      <td>78345</td>\n",
       "      <td>The NYC Office of Payroll Administration is re...</td>\n",
       "      <td>HQ</td>\n",
       "      <td>1</td>\n",
       "      <td>3</td>\n",
       "      <td>2</td>\n",
       "      <td>5-10</td>\n",
       "      <td>nyc office payroll administration recruiting i...</td>\n",
       "    </tr>\n",
       "    <tr>\n",
       "      <th>1294</th>\n",
       "      <td>87196</td>\n",
       "      <td>HPDTech is the IT division within HPD. Its mis...</td>\n",
       "      <td>Remote</td>\n",
       "      <td>4</td>\n",
       "      <td>2</td>\n",
       "      <td>3</td>\n",
       "      <td>0</td>\n",
       "      <td>hpdtech division within hpd mission identify a...</td>\n",
       "    </tr>\n",
       "    <tr>\n",
       "      <th>860</th>\n",
       "      <td>74647</td>\n",
       "      <td>Only Candidates permanent in the Assistant Civ...</td>\n",
       "      <td>East campus</td>\n",
       "      <td>1</td>\n",
       "      <td>2</td>\n",
       "      <td>3</td>\n",
       "      <td>0</td>\n",
       "      <td>candidate permanent assistant civil engineer t...</td>\n",
       "    </tr>\n",
       "  </tbody>\n",
       "</table>\n",
       "<p>1689 rows × 8 columns</p>\n",
       "</div>"
      ],
      "text/plain": [
       "      Salary                                    Job Description  \\\n",
       "429    63407  Only candidates who are permanent in the Compu...   \n",
       "1185  111372  NYCERS is seeking a Business Analyst with a te...   \n",
       "2116   79054  The NYC Department of Environmental Protection...   \n",
       "2127   67864  Only Candidates permanent in the Assistant Civ...   \n",
       "458    88695  Please read this posting carefully to make cer...   \n",
       "...      ...                                                ...   \n",
       "1638   44366  NYC Civilian Complaint Review Board  The Civil...   \n",
       "1095   52753  The NYC Department of Environmental Protection...   \n",
       "1130   78345  The NYC Office of Payroll Administration is re...   \n",
       "1294   87196  HPDTech is the IT division within HPD. Its mis...   \n",
       "860    74647  Only Candidates permanent in the Assistant Civ...   \n",
       "\n",
       "              Location  Min_years_exp  Technical  Comm Travel  \\\n",
       "429                 HQ              1          3     4      0   \n",
       "1185                HQ              5          3     2  10-15   \n",
       "2116                HQ              1          3     5      0   \n",
       "2127  Southeast campus              5          4     3      0   \n",
       "458             Remote              1          1     3      0   \n",
       "...                ...            ...        ...   ...    ...   \n",
       "1638                HQ              2          3     3      0   \n",
       "1095                HQ              1          3     4      0   \n",
       "1130                HQ              1          3     2   5-10   \n",
       "1294            Remote              4          2     3      0   \n",
       "860        East campus              1          2     3      0   \n",
       "\n",
       "                              processed_job_description  \n",
       "429   candidate permanent computer system manager ti...  \n",
       "1185  nycers seeking business analyst technical back...  \n",
       "2116  nyc department environmental protection dep pr...  \n",
       "2127  candidate permanent assistant civil engineer t...  \n",
       "458   please read posting carefully make certain mee...  \n",
       "...                                                 ...  \n",
       "1638  nyc civilian complaint review board civilian c...  \n",
       "1095  nyc department environmental protection dep en...  \n",
       "1130  nyc office payroll administration recruiting i...  \n",
       "1294  hpdtech division within hpd mission identify a...  \n",
       "860   candidate permanent assistant civil engineer t...  \n",
       "\n",
       "[1689 rows x 8 columns]"
      ]
     },
     "execution_count": 11,
     "metadata": {},
     "output_type": "execute_result"
    }
   ],
   "source": [
    "train_data['processed_job_description'] = new_train_processed_data\n",
    "\n",
    "train_data"
   ]
  },
  {
   "cell_type": "code",
   "execution_count": 12,
   "metadata": {
    "id": "4jhXFhNIzNMS"
   },
   "outputs": [],
   "source": [
    "# Doing the above procedure for test dataset as well\n",
    "\n",
    "new_test_processed_data = []\n",
    "\n",
    "for text in test_data['Job Description']:\n",
    "    text = re.sub(r'[!\"#$%&()*+,-./:;<=>?[\\]^_`{|}~]', ' ', text).lower()\n",
    "\n",
    "    text = re.sub('[0-9]+\\S+|\\s\\d+\\s|\\w+[0-9]+|\\w+[\\*]+.*|\\s[\\*]+\\s|www\\.[^\\s]+','',text)\n",
    "        \n",
    "    words= nltk.tokenize.word_tokenize(text)\n",
    "    words = [w for w in words if w.isalpha()]\n",
    "    words = [w for w in words if len(w)>2 and w not in stopwords.words('english')]\n",
    "        \n",
    "    lemmatizer = nltk.stem.WordNetLemmatizer()\n",
    "    words = [lemmatizer.lemmatize(w) for w in words]\n",
    "    new_test_processed_data.append(' '.join(words))"
   ]
  },
  {
   "cell_type": "code",
   "execution_count": 13,
   "metadata": {
    "colab": {
     "base_uri": "https://localhost:8080/",
     "height": 423
    },
    "id": "EqvMLwL2zNMS",
    "outputId": "f6282472-f009-4f37-b77b-a04b53a9c2c8"
   },
   "outputs": [
    {
     "name": "stderr",
     "output_type": "stream",
     "text": [
      "<ipython-input-13-80a49d23e72f>:1: SettingWithCopyWarning: \n",
      "A value is trying to be set on a copy of a slice from a DataFrame.\n",
      "Try using .loc[row_indexer,col_indexer] = value instead\n",
      "\n",
      "See the caveats in the documentation: https://pandas.pydata.org/pandas-docs/stable/user_guide/indexing.html#returning-a-view-versus-a-copy\n",
      "  test_data['processed_job_description'] = new_test_processed_data\n"
     ]
    },
    {
     "data": {
      "text/html": [
       "<div>\n",
       "<style scoped>\n",
       "    .dataframe tbody tr th:only-of-type {\n",
       "        vertical-align: middle;\n",
       "    }\n",
       "\n",
       "    .dataframe tbody tr th {\n",
       "        vertical-align: top;\n",
       "    }\n",
       "\n",
       "    .dataframe thead th {\n",
       "        text-align: right;\n",
       "    }\n",
       "</style>\n",
       "<table border=\"1\" class=\"dataframe\">\n",
       "  <thead>\n",
       "    <tr style=\"text-align: right;\">\n",
       "      <th></th>\n",
       "      <th>Salary</th>\n",
       "      <th>Job Description</th>\n",
       "      <th>Location</th>\n",
       "      <th>Min_years_exp</th>\n",
       "      <th>Technical</th>\n",
       "      <th>Comm</th>\n",
       "      <th>Travel</th>\n",
       "      <th>processed_job_description</th>\n",
       "    </tr>\n",
       "  </thead>\n",
       "  <tbody>\n",
       "    <tr>\n",
       "      <th>765</th>\n",
       "      <td>149752</td>\n",
       "      <td>The New York City Housing Authority (NYCHA) is...</td>\n",
       "      <td>HQ</td>\n",
       "      <td>1</td>\n",
       "      <td>2</td>\n",
       "      <td>3</td>\n",
       "      <td>0</td>\n",
       "      <td>new york city housing authority nycha largest ...</td>\n",
       "    </tr>\n",
       "    <tr>\n",
       "      <th>2387</th>\n",
       "      <td>64653</td>\n",
       "      <td>Hiring Rate:  $62,272.00  (Flat Rate-Annual)  ...</td>\n",
       "      <td>HQ</td>\n",
       "      <td>4</td>\n",
       "      <td>3</td>\n",
       "      <td>1</td>\n",
       "      <td>5-10</td>\n",
       "      <td>hiring rate flat rate annual mission bureau hi...</td>\n",
       "    </tr>\n",
       "    <tr>\n",
       "      <th>2162</th>\n",
       "      <td>69530</td>\n",
       "      <td>The Executive Director for Regulatory Reform w...</td>\n",
       "      <td>East campus</td>\n",
       "      <td>4</td>\n",
       "      <td>3</td>\n",
       "      <td>2</td>\n",
       "      <td>0</td>\n",
       "      <td>executive director regulatory reform assist im...</td>\n",
       "    </tr>\n",
       "    <tr>\n",
       "      <th>1833</th>\n",
       "      <td>51932</td>\n",
       "      <td>The NYC Department of Environmental Protection...</td>\n",
       "      <td>East campus</td>\n",
       "      <td>2</td>\n",
       "      <td>3</td>\n",
       "      <td>2</td>\n",
       "      <td>0</td>\n",
       "      <td>nyc department environmental protection dep pr...</td>\n",
       "    </tr>\n",
       "    <tr>\n",
       "      <th>1814</th>\n",
       "      <td>60218</td>\n",
       "      <td>The Department of Transportationâ€™s (DOT) mis...</td>\n",
       "      <td>East campus</td>\n",
       "      <td>2</td>\n",
       "      <td>2</td>\n",
       "      <td>2</td>\n",
       "      <td>0</td>\n",
       "      <td>department dot mission provide safe efficient ...</td>\n",
       "    </tr>\n",
       "    <tr>\n",
       "      <th>...</th>\n",
       "      <td>...</td>\n",
       "      <td>...</td>\n",
       "      <td>...</td>\n",
       "      <td>...</td>\n",
       "      <td>...</td>\n",
       "      <td>...</td>\n",
       "      <td>...</td>\n",
       "      <td>...</td>\n",
       "    </tr>\n",
       "    <tr>\n",
       "      <th>2333</th>\n",
       "      <td>58452</td>\n",
       "      <td>The Family Independence Administration/ Office...</td>\n",
       "      <td>HQ</td>\n",
       "      <td>5</td>\n",
       "      <td>4</td>\n",
       "      <td>1</td>\n",
       "      <td>0</td>\n",
       "      <td>family independence administration office rese...</td>\n",
       "    </tr>\n",
       "    <tr>\n",
       "      <th>998</th>\n",
       "      <td>90220</td>\n",
       "      <td>In order to be considered for this position ca...</td>\n",
       "      <td>West campus</td>\n",
       "      <td>5</td>\n",
       "      <td>2</td>\n",
       "      <td>3</td>\n",
       "      <td>0</td>\n",
       "      <td>order considered position candidate must servi...</td>\n",
       "    </tr>\n",
       "    <tr>\n",
       "      <th>891</th>\n",
       "      <td>68328</td>\n",
       "      <td>In accordance to Local Law 196 established in ...</td>\n",
       "      <td>Remote</td>\n",
       "      <td>1</td>\n",
       "      <td>2</td>\n",
       "      <td>4</td>\n",
       "      <td>0</td>\n",
       "      <td>accordance local lawestablished late sb develo...</td>\n",
       "    </tr>\n",
       "    <tr>\n",
       "      <th>1866</th>\n",
       "      <td>92478</td>\n",
       "      <td>About New York City Cyber Command NYC Cyber Co...</td>\n",
       "      <td>Southeast campus</td>\n",
       "      <td>4</td>\n",
       "      <td>5</td>\n",
       "      <td>2</td>\n",
       "      <td>1-5</td>\n",
       "      <td>new york city cyber command nyc cyber command ...</td>\n",
       "    </tr>\n",
       "    <tr>\n",
       "      <th>1731</th>\n",
       "      <td>81091</td>\n",
       "      <td>Only candidates who are permanent in the Civil...</td>\n",
       "      <td>HQ</td>\n",
       "      <td>5</td>\n",
       "      <td>1</td>\n",
       "      <td>4</td>\n",
       "      <td>0</td>\n",
       "      <td>candidate permanent civil engineer title reach...</td>\n",
       "    </tr>\n",
       "  </tbody>\n",
       "</table>\n",
       "<p>724 rows × 8 columns</p>\n",
       "</div>"
      ],
      "text/plain": [
       "      Salary                                    Job Description  \\\n",
       "765   149752  The New York City Housing Authority (NYCHA) is...   \n",
       "2387   64653  Hiring Rate:  $62,272.00  (Flat Rate-Annual)  ...   \n",
       "2162   69530  The Executive Director for Regulatory Reform w...   \n",
       "1833   51932  The NYC Department of Environmental Protection...   \n",
       "1814   60218  The Department of Transportationâ€™s (DOT) mis...   \n",
       "...      ...                                                ...   \n",
       "2333   58452  The Family Independence Administration/ Office...   \n",
       "998    90220  In order to be considered for this position ca...   \n",
       "891    68328  In accordance to Local Law 196 established in ...   \n",
       "1866   92478  About New York City Cyber Command NYC Cyber Co...   \n",
       "1731   81091  Only candidates who are permanent in the Civil...   \n",
       "\n",
       "              Location  Min_years_exp  Technical  Comm Travel  \\\n",
       "765                 HQ              1          2     3      0   \n",
       "2387                HQ              4          3     1   5-10   \n",
       "2162       East campus              4          3     2      0   \n",
       "1833       East campus              2          3     2      0   \n",
       "1814       East campus              2          2     2      0   \n",
       "...                ...            ...        ...   ...    ...   \n",
       "2333                HQ              5          4     1      0   \n",
       "998        West campus              5          2     3      0   \n",
       "891             Remote              1          2     4      0   \n",
       "1866  Southeast campus              4          5     2    1-5   \n",
       "1731                HQ              5          1     4      0   \n",
       "\n",
       "                              processed_job_description  \n",
       "765   new york city housing authority nycha largest ...  \n",
       "2387  hiring rate flat rate annual mission bureau hi...  \n",
       "2162  executive director regulatory reform assist im...  \n",
       "1833  nyc department environmental protection dep pr...  \n",
       "1814  department dot mission provide safe efficient ...  \n",
       "...                                                 ...  \n",
       "2333  family independence administration office rese...  \n",
       "998   order considered position candidate must servi...  \n",
       "891   accordance local lawestablished late sb develo...  \n",
       "1866  new york city cyber command nyc cyber command ...  \n",
       "1731  candidate permanent civil engineer title reach...  \n",
       "\n",
       "[724 rows x 8 columns]"
      ]
     },
     "execution_count": 13,
     "metadata": {},
     "output_type": "execute_result"
    }
   ],
   "source": [
    "test_data['processed_job_description'] = new_test_processed_data\n",
    "\n",
    "test_data"
   ]
  },
  {
   "cell_type": "code",
   "execution_count": 14,
   "metadata": {
    "id": "4gu-6krNzNMT"
   },
   "outputs": [],
   "source": [
    "# Creating term-by-document matrix\n",
    "# TfidfVectorizer includes pre-processing, tokenization, filtering stop words\n",
    "\n",
    "# selecting 500 most commonly occuring terms \n",
    "\n",
    "from sklearn.feature_extraction.text import TfidfVectorizer\n",
    "\n",
    "tfidf_vect = TfidfVectorizer(stop_words='english', max_features=500)  \n",
    "\n",
    "train_x_tfidf = tfidf_vect.fit_transform(train_data['processed_job_description'])"
   ]
  },
  {
   "cell_type": "code",
   "execution_count": 15,
   "metadata": {
    "id": "vOwe2sV_zNMT"
   },
   "outputs": [],
   "source": [
    "test_x_tfidf = tfidf_vect.transform(test_data['processed_job_description'])"
   ]
  },
  {
   "cell_type": "code",
   "execution_count": 16,
   "metadata": {
    "colab": {
     "base_uri": "https://localhost:8080/"
    },
    "id": "64J4_go9zNMT",
    "outputId": "4e829a9d-8ffc-4b65-eadf-0801e5549ce8"
   },
   "outputs": [
    {
     "data": {
      "text/plain": [
       "((1689, 500), (724, 500))"
      ]
     },
     "execution_count": 16,
     "metadata": {},
     "output_type": "execute_result"
    }
   ],
   "source": [
    "train_x_tfidf.shape, test_x_tfidf.shape"
   ]
  },
  {
   "cell_type": "markdown",
   "metadata": {
    "id": "DWTHUcyHzNMT"
   },
   "source": [
    "## Feature Engineering (1 points)\n",
    "\n",
    "Create one NEW feature from existing data. You either transform a single variable, or create a new variable from existing ones. \n",
    "\n",
    "Grading: \n",
    "- 0.5 points for creating the new feature correctly\n",
    "- 0.5 points for the justification of the new feature (i.e., why did you create this new feature)"
   ]
  },
  {
   "cell_type": "code",
   "execution_count": 17,
   "metadata": {
    "colab": {
     "base_uri": "https://localhost:8080/"
    },
    "id": "jY45yDRbzNMT",
    "outputId": "b10e77c8-d80a-4976-e847-bfcba491f13f"
   },
   "outputs": [
    {
     "data": {
      "text/plain": [
       "count    1689.000000\n",
       "mean        3.028419\n",
       "std         1.796296\n",
       "min         1.000000\n",
       "25%         1.000000\n",
       "50%         4.000000\n",
       "75%         5.000000\n",
       "max         5.000000\n",
       "Name: Min_years_exp, dtype: float64"
      ]
     },
     "execution_count": 17,
     "metadata": {},
     "output_type": "execute_result"
    }
   ],
   "source": [
    "# let's inspect the min_years_exp column \n",
    "\n",
    "train_data['Min_years_exp'].describe()"
   ]
  },
  {
   "cell_type": "code",
   "execution_count": 18,
   "metadata": {
    "colab": {
     "base_uri": "https://localhost:8080/"
    },
    "id": "_6KMsfyIzNMU",
    "outputId": "e62d719d-eecb-46a1-eb65-6b3734a126ec"
   },
   "outputs": [
    {
     "data": {
      "text/plain": [
       "1    653\n",
       "5    615\n",
       "4    250\n",
       "2    126\n",
       "3     45\n",
       "Name: Min_years_exp, dtype: int64"
      ]
     },
     "execution_count": 18,
     "metadata": {},
     "output_type": "execute_result"
    }
   ],
   "source": [
    "train_data['Min_years_exp'].value_counts()"
   ]
  },
  {
   "cell_type": "code",
   "execution_count": 19,
   "metadata": {
    "colab": {
     "base_uri": "https://localhost:8080/",
     "height": 282
    },
    "id": "yapSCvf-zNMU",
    "outputId": "84af8b86-2ac9-406b-97e0-d118cba5c840"
   },
   "outputs": [
    {
     "data": {
      "text/plain": [
       "<AxesSubplot:>"
      ]
     },
     "execution_count": 19,
     "metadata": {},
     "output_type": "execute_result"
    },
    {
     "data": {
      "image/png": "[encoded data removed]",
      "text/plain": [
       "<Figure size 432x288 with 1 Axes>"
      ]
     },
     "metadata": {
      "needs_background": "light"
     },
     "output_type": "display_data"
    }
   ],
   "source": [
    "train_data['Min_years_exp'].hist()"
   ]
  },
  {
   "cell_type": "markdown",
   "metadata": {
    "id": "KvGLS9rKzNMU"
   },
   "source": [
    "**Since, there are many records with each having an individual observation for min_years_exp, it would be better to group these in categorical bins and create an ordinal column for \"minimum years of exp required\" variable.**"
   ]
  },
  {
   "cell_type": "code",
   "execution_count": 20,
   "metadata": {
    "id": "7wjPptcdzNMU"
   },
   "outputs": [],
   "source": [
    "# Transforming  continuous data into categorical data (bins)\n",
    "# Created 2 bins :- \n",
    "# 0 to 2 = ‘1-2 years of exp required’\n",
    "# 3 to 5 = ‘3-5 years of exp required’\n",
    "\n",
    "def new_column(df):\n",
    "    \n",
    "    df['num_min_exp_binned'] = pd.cut(df['Min_years_exp'],\n",
    "                                       bins=[0,2,5], \n",
    "                                       labels=False, \n",
    "                                       include_lowest=True,\n",
    "                                       ordered=True)\n",
    "    return df[['num_min_exp_binned']]"
   ]
  },
  {
   "cell_type": "code",
   "execution_count": 21,
   "metadata": {
    "colab": {
     "base_uri": "https://localhost:8080/",
     "height": 423
    },
    "id": "a_A8yKg0zNMU",
    "outputId": "be4991b5-cb6d-4cd1-d1f0-139bafc73a1e"
   },
   "outputs": [
    {
     "name": "stderr",
     "output_type": "stream",
     "text": [
      "<ipython-input-20-20d3d1c35b54>:8: SettingWithCopyWarning: \n",
      "A value is trying to be set on a copy of a slice from a DataFrame.\n",
      "Try using .loc[row_indexer,col_indexer] = value instead\n",
      "\n",
      "See the caveats in the documentation: https://pandas.pydata.org/pandas-docs/stable/user_guide/indexing.html#returning-a-view-versus-a-copy\n",
      "  df['num_min_exp_binned'] = pd.cut(df['Min_years_exp'],\n"
     ]
    },
    {
     "data": {
      "text/html": [
       "<div>\n",
       "<style scoped>\n",
       "    .dataframe tbody tr th:only-of-type {\n",
       "        vertical-align: middle;\n",
       "    }\n",
       "\n",
       "    .dataframe tbody tr th {\n",
       "        vertical-align: top;\n",
       "    }\n",
       "\n",
       "    .dataframe thead th {\n",
       "        text-align: right;\n",
       "    }\n",
       "</style>\n",
       "<table border=\"1\" class=\"dataframe\">\n",
       "  <thead>\n",
       "    <tr style=\"text-align: right;\">\n",
       "      <th></th>\n",
       "      <th>num_min_exp_binned</th>\n",
       "    </tr>\n",
       "  </thead>\n",
       "  <tbody>\n",
       "    <tr>\n",
       "      <th>429</th>\n",
       "      <td>0</td>\n",
       "    </tr>\n",
       "    <tr>\n",
       "      <th>1185</th>\n",
       "      <td>1</td>\n",
       "    </tr>\n",
       "    <tr>\n",
       "      <th>2116</th>\n",
       "      <td>0</td>\n",
       "    </tr>\n",
       "    <tr>\n",
       "      <th>2127</th>\n",
       "      <td>1</td>\n",
       "    </tr>\n",
       "    <tr>\n",
       "      <th>458</th>\n",
       "      <td>0</td>\n",
       "    </tr>\n",
       "    <tr>\n",
       "      <th>...</th>\n",
       "      <td>...</td>\n",
       "    </tr>\n",
       "    <tr>\n",
       "      <th>1638</th>\n",
       "      <td>0</td>\n",
       "    </tr>\n",
       "    <tr>\n",
       "      <th>1095</th>\n",
       "      <td>0</td>\n",
       "    </tr>\n",
       "    <tr>\n",
       "      <th>1130</th>\n",
       "      <td>0</td>\n",
       "    </tr>\n",
       "    <tr>\n",
       "      <th>1294</th>\n",
       "      <td>1</td>\n",
       "    </tr>\n",
       "    <tr>\n",
       "      <th>860</th>\n",
       "      <td>0</td>\n",
       "    </tr>\n",
       "  </tbody>\n",
       "</table>\n",
       "<p>1689 rows × 1 columns</p>\n",
       "</div>"
      ],
      "text/plain": [
       "      num_min_exp_binned\n",
       "429                    0\n",
       "1185                   1\n",
       "2116                   0\n",
       "2127                   1\n",
       "458                    0\n",
       "...                  ...\n",
       "1638                   0\n",
       "1095                   0\n",
       "1130                   0\n",
       "1294                   1\n",
       "860                    0\n",
       "\n",
       "[1689 rows x 1 columns]"
      ]
     },
     "execution_count": 21,
     "metadata": {},
     "output_type": "execute_result"
    }
   ],
   "source": [
    "new_column(train_data)"
   ]
  },
  {
   "cell_type": "code",
   "execution_count": 22,
   "metadata": {
    "colab": {
     "base_uri": "https://localhost:8080/",
     "height": 423
    },
    "id": "q_E6wFHf72Wx",
    "outputId": "d88906b6-0f5a-4e6a-9a32-e13b7ab5c602"
   },
   "outputs": [
    {
     "name": "stderr",
     "output_type": "stream",
     "text": [
      "<ipython-input-20-20d3d1c35b54>:8: SettingWithCopyWarning: \n",
      "A value is trying to be set on a copy of a slice from a DataFrame.\n",
      "Try using .loc[row_indexer,col_indexer] = value instead\n",
      "\n",
      "See the caveats in the documentation: https://pandas.pydata.org/pandas-docs/stable/user_guide/indexing.html#returning-a-view-versus-a-copy\n",
      "  df['num_min_exp_binned'] = pd.cut(df['Min_years_exp'],\n"
     ]
    },
    {
     "data": {
      "text/html": [
       "<div>\n",
       "<style scoped>\n",
       "    .dataframe tbody tr th:only-of-type {\n",
       "        vertical-align: middle;\n",
       "    }\n",
       "\n",
       "    .dataframe tbody tr th {\n",
       "        vertical-align: top;\n",
       "    }\n",
       "\n",
       "    .dataframe thead th {\n",
       "        text-align: right;\n",
       "    }\n",
       "</style>\n",
       "<table border=\"1\" class=\"dataframe\">\n",
       "  <thead>\n",
       "    <tr style=\"text-align: right;\">\n",
       "      <th></th>\n",
       "      <th>num_min_exp_binned</th>\n",
       "    </tr>\n",
       "  </thead>\n",
       "  <tbody>\n",
       "    <tr>\n",
       "      <th>765</th>\n",
       "      <td>0</td>\n",
       "    </tr>\n",
       "    <tr>\n",
       "      <th>2387</th>\n",
       "      <td>1</td>\n",
       "    </tr>\n",
       "    <tr>\n",
       "      <th>2162</th>\n",
       "      <td>1</td>\n",
       "    </tr>\n",
       "    <tr>\n",
       "      <th>1833</th>\n",
       "      <td>0</td>\n",
       "    </tr>\n",
       "    <tr>\n",
       "      <th>1814</th>\n",
       "      <td>0</td>\n",
       "    </tr>\n",
       "    <tr>\n",
       "      <th>...</th>\n",
       "      <td>...</td>\n",
       "    </tr>\n",
       "    <tr>\n",
       "      <th>2333</th>\n",
       "      <td>1</td>\n",
       "    </tr>\n",
       "    <tr>\n",
       "      <th>998</th>\n",
       "      <td>1</td>\n",
       "    </tr>\n",
       "    <tr>\n",
       "      <th>891</th>\n",
       "      <td>0</td>\n",
       "    </tr>\n",
       "    <tr>\n",
       "      <th>1866</th>\n",
       "      <td>1</td>\n",
       "    </tr>\n",
       "    <tr>\n",
       "      <th>1731</th>\n",
       "      <td>1</td>\n",
       "    </tr>\n",
       "  </tbody>\n",
       "</table>\n",
       "<p>724 rows × 1 columns</p>\n",
       "</div>"
      ],
      "text/plain": [
       "      num_min_exp_binned\n",
       "765                    0\n",
       "2387                   1\n",
       "2162                   1\n",
       "1833                   0\n",
       "1814                   0\n",
       "...                  ...\n",
       "2333                   1\n",
       "998                    1\n",
       "891                    0\n",
       "1866                   1\n",
       "1731                   1\n",
       "\n",
       "[724 rows x 1 columns]"
      ]
     },
     "execution_count": 22,
     "metadata": {},
     "output_type": "execute_result"
    }
   ],
   "source": [
    "new_column(test_data)"
   ]
  },
  {
   "cell_type": "code",
   "execution_count": 23,
   "metadata": {
    "colab": {
     "base_uri": "https://localhost:8080/",
     "height": 282
    },
    "id": "L02zUTkbzNMV",
    "outputId": "2c972da0-f8b7-49aa-aaf6-36eee58c56f6"
   },
   "outputs": [
    {
     "data": {
      "text/plain": [
       "<AxesSubplot:>"
      ]
     },
     "execution_count": 23,
     "metadata": {},
     "output_type": "execute_result"
    },
    {
     "data": {
      "image/png": "[encoded data removed]",
      "text/plain": [
       "<Figure size 432x288 with 1 Axes>"
      ]
     },
     "metadata": {
      "needs_background": "light"
     },
     "output_type": "display_data"
    }
   ],
   "source": [
    "train_data['num_min_exp_binned'].hist()"
   ]
  },
  {
   "cell_type": "code",
   "execution_count": 24,
   "metadata": {
    "colab": {
     "base_uri": "https://localhost:8080/"
    },
    "id": "GmBzqKBJzNMV",
    "outputId": "396d9ab4-42c7-4bba-cf65-9d37086a8464"
   },
   "outputs": [
    {
     "data": {
      "text/plain": [
       "1    910\n",
       "0    779\n",
       "Name: num_min_exp_binned, dtype: int64"
      ]
     },
     "execution_count": 24,
     "metadata": {},
     "output_type": "execute_result"
    }
   ],
   "source": [
    "train_data['num_min_exp_binned'].value_counts()"
   ]
  },
  {
   "cell_type": "code",
   "execution_count": 25,
   "metadata": {
    "colab": {
     "base_uri": "https://localhost:8080/",
     "height": 206
    },
    "id": "qUZigNAbzNMV",
    "outputId": "b3d30363-2e6b-4ee8-c02d-6f492e5a88c9"
   },
   "outputs": [
    {
     "data": {
      "text/html": [
       "<div>\n",
       "<style scoped>\n",
       "    .dataframe tbody tr th:only-of-type {\n",
       "        vertical-align: middle;\n",
       "    }\n",
       "\n",
       "    .dataframe tbody tr th {\n",
       "        vertical-align: top;\n",
       "    }\n",
       "\n",
       "    .dataframe thead th {\n",
       "        text-align: right;\n",
       "    }\n",
       "</style>\n",
       "<table border=\"1\" class=\"dataframe\">\n",
       "  <thead>\n",
       "    <tr style=\"text-align: right;\">\n",
       "      <th></th>\n",
       "      <th>Salary</th>\n",
       "      <th>Job Description</th>\n",
       "      <th>Location</th>\n",
       "      <th>Min_years_exp</th>\n",
       "      <th>Technical</th>\n",
       "      <th>Comm</th>\n",
       "      <th>Travel</th>\n",
       "      <th>processed_job_description</th>\n",
       "      <th>num_min_exp_binned</th>\n",
       "    </tr>\n",
       "  </thead>\n",
       "  <tbody>\n",
       "    <tr>\n",
       "      <th>429</th>\n",
       "      <td>63407</td>\n",
       "      <td>Only candidates who are permanent in the Compu...</td>\n",
       "      <td>HQ</td>\n",
       "      <td>1</td>\n",
       "      <td>3</td>\n",
       "      <td>4</td>\n",
       "      <td>0</td>\n",
       "      <td>candidate permanent computer system manager ti...</td>\n",
       "      <td>0</td>\n",
       "    </tr>\n",
       "    <tr>\n",
       "      <th>1185</th>\n",
       "      <td>111372</td>\n",
       "      <td>NYCERS is seeking a Business Analyst with a te...</td>\n",
       "      <td>HQ</td>\n",
       "      <td>5</td>\n",
       "      <td>3</td>\n",
       "      <td>2</td>\n",
       "      <td>10-15</td>\n",
       "      <td>nycers seeking business analyst technical back...</td>\n",
       "      <td>1</td>\n",
       "    </tr>\n",
       "    <tr>\n",
       "      <th>2116</th>\n",
       "      <td>79054</td>\n",
       "      <td>The NYC Department of Environmental Protection...</td>\n",
       "      <td>HQ</td>\n",
       "      <td>1</td>\n",
       "      <td>3</td>\n",
       "      <td>5</td>\n",
       "      <td>0</td>\n",
       "      <td>nyc department environmental protection dep pr...</td>\n",
       "      <td>0</td>\n",
       "    </tr>\n",
       "    <tr>\n",
       "      <th>2127</th>\n",
       "      <td>67864</td>\n",
       "      <td>Only Candidates permanent in the Assistant Civ...</td>\n",
       "      <td>Southeast campus</td>\n",
       "      <td>5</td>\n",
       "      <td>4</td>\n",
       "      <td>3</td>\n",
       "      <td>0</td>\n",
       "      <td>candidate permanent assistant civil engineer t...</td>\n",
       "      <td>1</td>\n",
       "    </tr>\n",
       "    <tr>\n",
       "      <th>458</th>\n",
       "      <td>88695</td>\n",
       "      <td>Please read this posting carefully to make cer...</td>\n",
       "      <td>Remote</td>\n",
       "      <td>1</td>\n",
       "      <td>1</td>\n",
       "      <td>3</td>\n",
       "      <td>0</td>\n",
       "      <td>please read posting carefully make certain mee...</td>\n",
       "      <td>0</td>\n",
       "    </tr>\n",
       "  </tbody>\n",
       "</table>\n",
       "</div>"
      ],
      "text/plain": [
       "      Salary                                    Job Description  \\\n",
       "429    63407  Only candidates who are permanent in the Compu...   \n",
       "1185  111372  NYCERS is seeking a Business Analyst with a te...   \n",
       "2116   79054  The NYC Department of Environmental Protection...   \n",
       "2127   67864  Only Candidates permanent in the Assistant Civ...   \n",
       "458    88695  Please read this posting carefully to make cer...   \n",
       "\n",
       "              Location  Min_years_exp  Technical  Comm Travel  \\\n",
       "429                 HQ              1          3     4      0   \n",
       "1185                HQ              5          3     2  10-15   \n",
       "2116                HQ              1          3     5      0   \n",
       "2127  Southeast campus              5          4     3      0   \n",
       "458             Remote              1          1     3      0   \n",
       "\n",
       "                              processed_job_description  num_min_exp_binned  \n",
       "429   candidate permanent computer system manager ti...                   0  \n",
       "1185  nycers seeking business analyst technical back...                   1  \n",
       "2116  nyc department environmental protection dep pr...                   0  \n",
       "2127  candidate permanent assistant civil engineer t...                   1  \n",
       "458   please read posting carefully make certain mee...                   0  "
      ]
     },
     "execution_count": 25,
     "metadata": {},
     "output_type": "execute_result"
    }
   ],
   "source": [
    "# checking the train_data with new columns \n",
    "\n",
    "train_data.head(5)"
   ]
  },
  {
   "cell_type": "code",
   "execution_count": 26,
   "metadata": {
    "id": "LWDSuXQizNMV"
   },
   "outputs": [],
   "source": [
    "# dropping Min_years_exp column \n",
    "\n",
    "new_train_data = train_data.drop(['Min_years_exp'], axis=1)"
   ]
  },
  {
   "cell_type": "code",
   "execution_count": 27,
   "metadata": {
    "id": "zWW9spAp8B9j"
   },
   "outputs": [],
   "source": [
    "# doing the same procedure for test data as well\n",
    "\n",
    "new_test_data = test_data.drop(['Min_years_exp'], axis=1)"
   ]
  },
  {
   "cell_type": "code",
   "execution_count": 28,
   "metadata": {
    "colab": {
     "base_uri": "https://localhost:8080/",
     "height": 596
    },
    "id": "ZZKR1bVi3CeE",
    "outputId": "71bd7b1b-bbe1-4d10-d775-5f2249aa83ca"
   },
   "outputs": [
    {
     "data": {
      "image/png": "[encoded data removed]",
      "text/plain": [
       "<Figure size 720x720 with 2 Axes>"
      ]
     },
     "metadata": {
      "needs_background": "light"
     },
     "output_type": "display_data"
    }
   ],
   "source": [
    "# To find correlation between each variable in train data \n",
    "\n",
    "import seaborn as sns \n",
    "\n",
    "corr_matrix = new_train_data.corr()\n",
    "top_corr_features = corr_matrix.index\n",
    "plt.figure(figsize=(10,10))\n",
    "\n",
    "# plotting heatmap \n",
    "heat_map = sns.heatmap(new_train_data[top_corr_features].corr(), annot=True, cmap=\"Greens\")"
   ]
  },
  {
   "cell_type": "markdown",
   "metadata": {
    "id": "rDux79Nh5fF8"
   },
   "source": [
    "**\"Technical\" and \"num_min_exp_binned\" are the most highly correlated of the variables, with a positive correlation of 0.087. \n",
    "While moderately positively related, this correlation isn’t particularly worrisome for the current goal, so we will consider all features.**"
   ]
  },
  {
   "cell_type": "code",
   "execution_count": 29,
   "metadata": {
    "id": "5BLzZh-s50Kx"
   },
   "outputs": [],
   "source": [
    "# Redoing separation of target and test variables from new_train_data and new_test_data respectively. \n",
    "\n",
    "y_train = new_train_data[['Salary']]\n",
    "y_test = new_test_data[['Salary']]"
   ]
  },
  {
   "cell_type": "code",
   "execution_count": 30,
   "metadata": {
    "id": "PHVcKb9f50XF"
   },
   "outputs": [],
   "source": [
    "# Redoing the dropping of the target variable from the set of features for train and test data respectively\n",
    "\n",
    "x_train = new_train_data.drop(['Salary'], axis=1)\n",
    "x_test = new_test_data.drop(['Salary'], axis=1)"
   ]
  },
  {
   "cell_type": "code",
   "execution_count": 31,
   "metadata": {
    "colab": {
     "base_uri": "https://localhost:8080/",
     "height": 206
    },
    "id": "Xx6nwv8x9YwM",
    "outputId": "cf86721a-79c3-4089-c66b-9dd34cedd486"
   },
   "outputs": [
    {
     "data": {
      "text/html": [
       "<div>\n",
       "<style scoped>\n",
       "    .dataframe tbody tr th:only-of-type {\n",
       "        vertical-align: middle;\n",
       "    }\n",
       "\n",
       "    .dataframe tbody tr th {\n",
       "        vertical-align: top;\n",
       "    }\n",
       "\n",
       "    .dataframe thead th {\n",
       "        text-align: right;\n",
       "    }\n",
       "</style>\n",
       "<table border=\"1\" class=\"dataframe\">\n",
       "  <thead>\n",
       "    <tr style=\"text-align: right;\">\n",
       "      <th></th>\n",
       "      <th>Job Description</th>\n",
       "      <th>Location</th>\n",
       "      <th>Technical</th>\n",
       "      <th>Comm</th>\n",
       "      <th>Travel</th>\n",
       "      <th>processed_job_description</th>\n",
       "      <th>num_min_exp_binned</th>\n",
       "    </tr>\n",
       "  </thead>\n",
       "  <tbody>\n",
       "    <tr>\n",
       "      <th>429</th>\n",
       "      <td>Only candidates who are permanent in the Compu...</td>\n",
       "      <td>HQ</td>\n",
       "      <td>3</td>\n",
       "      <td>4</td>\n",
       "      <td>0</td>\n",
       "      <td>candidate permanent computer system manager ti...</td>\n",
       "      <td>0</td>\n",
       "    </tr>\n",
       "    <tr>\n",
       "      <th>1185</th>\n",
       "      <td>NYCERS is seeking a Business Analyst with a te...</td>\n",
       "      <td>HQ</td>\n",
       "      <td>3</td>\n",
       "      <td>2</td>\n",
       "      <td>10-15</td>\n",
       "      <td>nycers seeking business analyst technical back...</td>\n",
       "      <td>1</td>\n",
       "    </tr>\n",
       "    <tr>\n",
       "      <th>2116</th>\n",
       "      <td>The NYC Department of Environmental Protection...</td>\n",
       "      <td>HQ</td>\n",
       "      <td>3</td>\n",
       "      <td>5</td>\n",
       "      <td>0</td>\n",
       "      <td>nyc department environmental protection dep pr...</td>\n",
       "      <td>0</td>\n",
       "    </tr>\n",
       "    <tr>\n",
       "      <th>2127</th>\n",
       "      <td>Only Candidates permanent in the Assistant Civ...</td>\n",
       "      <td>Southeast campus</td>\n",
       "      <td>4</td>\n",
       "      <td>3</td>\n",
       "      <td>0</td>\n",
       "      <td>candidate permanent assistant civil engineer t...</td>\n",
       "      <td>1</td>\n",
       "    </tr>\n",
       "    <tr>\n",
       "      <th>458</th>\n",
       "      <td>Please read this posting carefully to make cer...</td>\n",
       "      <td>Remote</td>\n",
       "      <td>1</td>\n",
       "      <td>3</td>\n",
       "      <td>0</td>\n",
       "      <td>please read posting carefully make certain mee...</td>\n",
       "      <td>0</td>\n",
       "    </tr>\n",
       "  </tbody>\n",
       "</table>\n",
       "</div>"
      ],
      "text/plain": [
       "                                        Job Description          Location  \\\n",
       "429   Only candidates who are permanent in the Compu...                HQ   \n",
       "1185  NYCERS is seeking a Business Analyst with a te...                HQ   \n",
       "2116  The NYC Department of Environmental Protection...                HQ   \n",
       "2127  Only Candidates permanent in the Assistant Civ...  Southeast campus   \n",
       "458   Please read this posting carefully to make cer...            Remote   \n",
       "\n",
       "      Technical  Comm Travel  \\\n",
       "429           3     4      0   \n",
       "1185          3     2  10-15   \n",
       "2116          3     5      0   \n",
       "2127          4     3      0   \n",
       "458           1     3      0   \n",
       "\n",
       "                              processed_job_description  num_min_exp_binned  \n",
       "429   candidate permanent computer system manager ti...                   0  \n",
       "1185  nycers seeking business analyst technical back...                   1  \n",
       "2116  nyc department environmental protection dep pr...                   0  \n",
       "2127  candidate permanent assistant civil engineer t...                   1  \n",
       "458   please read posting carefully make certain mee...                   0  "
      ]
     },
     "execution_count": 31,
     "metadata": {},
     "output_type": "execute_result"
    }
   ],
   "source": [
    "x_train.head(5)"
   ]
  },
  {
   "cell_type": "markdown",
   "metadata": {
    "id": "_GwLdypkT_8R"
   },
   "source": [
    "In the above dataframe output, we can see that both the columns \"Min_years_exp\" column is dropped from the x_train data. "
   ]
  },
  {
   "cell_type": "code",
   "execution_count": 32,
   "metadata": {
    "colab": {
     "base_uri": "https://localhost:8080/"
    },
    "id": "yPnPZCyXzNMV",
    "outputId": "d89ab997-8f24-461f-fad4-77d09238c7ee"
   },
   "outputs": [
    {
     "data": {
      "text/plain": [
       "Job Description              object\n",
       "Location                     object\n",
       "Technical                     int64\n",
       "Comm                          int64\n",
       "Travel                       object\n",
       "processed_job_description    object\n",
       "num_min_exp_binned            int64\n",
       "dtype: object"
      ]
     },
     "execution_count": 32,
     "metadata": {},
     "output_type": "execute_result"
    }
   ],
   "source": [
    "x_train.dtypes"
   ]
  },
  {
   "cell_type": "code",
   "execution_count": 33,
   "metadata": {
    "id": "KQVk9q4GzNMV"
   },
   "outputs": [],
   "source": [
    "# Feature transformation and scaling\n",
    "\n",
    "from sklearn.compose import ColumnTransformer\n",
    "from sklearn.pipeline import Pipeline\n",
    "from sklearn.impute import SimpleImputer\n",
    "from sklearn.preprocessing import StandardScaler\n",
    "from sklearn.preprocessing import OneHotEncoder"
   ]
  },
  {
   "cell_type": "code",
   "execution_count": 34,
   "metadata": {
    "colab": {
     "base_uri": "https://localhost:8080/"
    },
    "id": "EM8pgzjEzNMW",
    "outputId": "cdb8839b-35e8-4cbb-cab7-2ff50833f5a5"
   },
   "outputs": [
    {
     "data": {
      "text/plain": [
       "['Job Description', 'Location', 'Travel', 'processed_job_description']"
      ]
     },
     "execution_count": 34,
     "metadata": {},
     "output_type": "execute_result"
    }
   ],
   "source": [
    "# To identify the categorical columns\n",
    "\n",
    "categorical_cols = x_train.select_dtypes('object').columns.to_list()\n",
    "\n",
    "categorical_cols"
   ]
  },
  {
   "cell_type": "code",
   "execution_count": 35,
   "metadata": {
    "id": "n8hm6rtQzNMW"
   },
   "outputs": [],
   "source": [
    "# text column \n",
    "\n",
    "text_column = ['Job Description', 'processed_job_description']"
   ]
  },
  {
   "cell_type": "code",
   "execution_count": 36,
   "metadata": {
    "id": "sEQGRssXzNMW"
   },
   "outputs": [],
   "source": [
    "# removing text column from categorical columns \n",
    "\n",
    "for col in text_column:\n",
    "    categorical_cols.remove(col)"
   ]
  },
  {
   "cell_type": "code",
   "execution_count": 37,
   "metadata": {
    "colab": {
     "base_uri": "https://localhost:8080/"
    },
    "id": "ZM30JpuqzNMW",
    "outputId": "fa81f547-6521-445e-b5c7-3235412a7a60"
   },
   "outputs": [
    {
     "data": {
      "text/plain": [
       "['Technical', 'Comm', 'num_min_exp_binned']"
      ]
     },
     "execution_count": 37,
     "metadata": {},
     "output_type": "execute_result"
    }
   ],
   "source": [
    "# To identify the numerical columns\n",
    "\n",
    "numeric_cols = x_train.select_dtypes(include=[np.number]).columns.to_list()\n",
    "\n",
    "numeric_cols"
   ]
  },
  {
   "cell_type": "code",
   "execution_count": 38,
   "metadata": {
    "id": "hrMr1UlRzNMW"
   },
   "outputs": [],
   "source": [
    "# Pipeline \n",
    "\n",
    "categorical_transformer = Pipeline(steps=[\n",
    "    ('imputer', SimpleImputer(strategy='constant', fill_value='unknown')),\n",
    "    ('onehot', OneHotEncoder(handle_unknown='ignore'))])"
   ]
  },
  {
   "cell_type": "code",
   "execution_count": 39,
   "metadata": {
    "id": "gqHyf6fpzNMW"
   },
   "outputs": [],
   "source": [
    "numeric_transformer = Pipeline(steps=[\n",
    "                ('imputer', SimpleImputer(strategy='median')),\n",
    "                ('scaler', StandardScaler())])"
   ]
  },
  {
   "cell_type": "code",
   "execution_count": 40,
   "metadata": {
    "id": "KQcBFvimzNMW"
   },
   "outputs": [],
   "source": [
    "preprocessor = ColumnTransformer([\n",
    "        ('num', numeric_transformer, numeric_cols),\n",
    "        ('cat', categorical_transformer, categorical_cols)],\n",
    "        remainder='passthrough')"
   ]
  },
  {
   "cell_type": "code",
   "execution_count": 41,
   "metadata": {
    "colab": {
     "base_uri": "https://localhost:8080/",
     "height": 206
    },
    "id": "yGhEOQp--r36",
    "outputId": "cb7a93e9-ce2e-46f1-cd3f-194be39d6013"
   },
   "outputs": [
    {
     "data": {
      "text/html": [
       "<div>\n",
       "<style scoped>\n",
       "    .dataframe tbody tr th:only-of-type {\n",
       "        vertical-align: middle;\n",
       "    }\n",
       "\n",
       "    .dataframe tbody tr th {\n",
       "        vertical-align: top;\n",
       "    }\n",
       "\n",
       "    .dataframe thead th {\n",
       "        text-align: right;\n",
       "    }\n",
       "</style>\n",
       "<table border=\"1\" class=\"dataframe\">\n",
       "  <thead>\n",
       "    <tr style=\"text-align: right;\">\n",
       "      <th></th>\n",
       "      <th>Job Description</th>\n",
       "      <th>Location</th>\n",
       "      <th>Technical</th>\n",
       "      <th>Comm</th>\n",
       "      <th>Travel</th>\n",
       "      <th>processed_job_description</th>\n",
       "      <th>num_min_exp_binned</th>\n",
       "    </tr>\n",
       "  </thead>\n",
       "  <tbody>\n",
       "    <tr>\n",
       "      <th>429</th>\n",
       "      <td>Only candidates who are permanent in the Compu...</td>\n",
       "      <td>HQ</td>\n",
       "      <td>3</td>\n",
       "      <td>4</td>\n",
       "      <td>0</td>\n",
       "      <td>candidate permanent computer system manager ti...</td>\n",
       "      <td>0</td>\n",
       "    </tr>\n",
       "    <tr>\n",
       "      <th>1185</th>\n",
       "      <td>NYCERS is seeking a Business Analyst with a te...</td>\n",
       "      <td>HQ</td>\n",
       "      <td>3</td>\n",
       "      <td>2</td>\n",
       "      <td>10-15</td>\n",
       "      <td>nycers seeking business analyst technical back...</td>\n",
       "      <td>1</td>\n",
       "    </tr>\n",
       "    <tr>\n",
       "      <th>2116</th>\n",
       "      <td>The NYC Department of Environmental Protection...</td>\n",
       "      <td>HQ</td>\n",
       "      <td>3</td>\n",
       "      <td>5</td>\n",
       "      <td>0</td>\n",
       "      <td>nyc department environmental protection dep pr...</td>\n",
       "      <td>0</td>\n",
       "    </tr>\n",
       "    <tr>\n",
       "      <th>2127</th>\n",
       "      <td>Only Candidates permanent in the Assistant Civ...</td>\n",
       "      <td>Southeast campus</td>\n",
       "      <td>4</td>\n",
       "      <td>3</td>\n",
       "      <td>0</td>\n",
       "      <td>candidate permanent assistant civil engineer t...</td>\n",
       "      <td>1</td>\n",
       "    </tr>\n",
       "    <tr>\n",
       "      <th>458</th>\n",
       "      <td>Please read this posting carefully to make cer...</td>\n",
       "      <td>Remote</td>\n",
       "      <td>1</td>\n",
       "      <td>3</td>\n",
       "      <td>0</td>\n",
       "      <td>please read posting carefully make certain mee...</td>\n",
       "      <td>0</td>\n",
       "    </tr>\n",
       "  </tbody>\n",
       "</table>\n",
       "</div>"
      ],
      "text/plain": [
       "                                        Job Description          Location  \\\n",
       "429   Only candidates who are permanent in the Compu...                HQ   \n",
       "1185  NYCERS is seeking a Business Analyst with a te...                HQ   \n",
       "2116  The NYC Department of Environmental Protection...                HQ   \n",
       "2127  Only Candidates permanent in the Assistant Civ...  Southeast campus   \n",
       "458   Please read this posting carefully to make cer...            Remote   \n",
       "\n",
       "      Technical  Comm Travel  \\\n",
       "429           3     4      0   \n",
       "1185          3     2  10-15   \n",
       "2116          3     5      0   \n",
       "2127          4     3      0   \n",
       "458           1     3      0   \n",
       "\n",
       "                              processed_job_description  num_min_exp_binned  \n",
       "429   candidate permanent computer system manager ti...                   0  \n",
       "1185  nycers seeking business analyst technical back...                   1  \n",
       "2116  nyc department environmental protection dep pr...                   0  \n",
       "2127  candidate permanent assistant civil engineer t...                   1  \n",
       "458   please read posting carefully make certain mee...                   0  "
      ]
     },
     "execution_count": 41,
     "metadata": {},
     "output_type": "execute_result"
    }
   ],
   "source": [
    "x_train.head(5)"
   ]
  },
  {
   "cell_type": "code",
   "execution_count": 42,
   "metadata": {
    "id": "_0bs_Aob-xds"
   },
   "outputs": [],
   "source": [
    "# dropping \"Job Description\" and \"processed_job_description\" from x_train and x_test dataframes\n",
    "\n",
    "x_train = x_train.drop(['Job Description', 'processed_job_description'], axis=1)"
   ]
  },
  {
   "cell_type": "code",
   "execution_count": 43,
   "metadata": {
    "id": "xjWlF7C-_LuF"
   },
   "outputs": [],
   "source": [
    "x_test = x_test.drop(['Job Description', 'processed_job_description'], axis=1)"
   ]
  },
  {
   "cell_type": "code",
   "execution_count": 44,
   "metadata": {
    "colab": {
     "base_uri": "https://localhost:8080/",
     "height": 206
    },
    "id": "ZNNHzZLe_QbK",
    "outputId": "cb8dd627-52fd-4609-8a32-e5ded6d69bb9"
   },
   "outputs": [
    {
     "data": {
      "text/html": [
       "<div>\n",
       "<style scoped>\n",
       "    .dataframe tbody tr th:only-of-type {\n",
       "        vertical-align: middle;\n",
       "    }\n",
       "\n",
       "    .dataframe tbody tr th {\n",
       "        vertical-align: top;\n",
       "    }\n",
       "\n",
       "    .dataframe thead th {\n",
       "        text-align: right;\n",
       "    }\n",
       "</style>\n",
       "<table border=\"1\" class=\"dataframe\">\n",
       "  <thead>\n",
       "    <tr style=\"text-align: right;\">\n",
       "      <th></th>\n",
       "      <th>Location</th>\n",
       "      <th>Technical</th>\n",
       "      <th>Comm</th>\n",
       "      <th>Travel</th>\n",
       "      <th>num_min_exp_binned</th>\n",
       "    </tr>\n",
       "  </thead>\n",
       "  <tbody>\n",
       "    <tr>\n",
       "      <th>429</th>\n",
       "      <td>HQ</td>\n",
       "      <td>3</td>\n",
       "      <td>4</td>\n",
       "      <td>0</td>\n",
       "      <td>0</td>\n",
       "    </tr>\n",
       "    <tr>\n",
       "      <th>1185</th>\n",
       "      <td>HQ</td>\n",
       "      <td>3</td>\n",
       "      <td>2</td>\n",
       "      <td>10-15</td>\n",
       "      <td>1</td>\n",
       "    </tr>\n",
       "    <tr>\n",
       "      <th>2116</th>\n",
       "      <td>HQ</td>\n",
       "      <td>3</td>\n",
       "      <td>5</td>\n",
       "      <td>0</td>\n",
       "      <td>0</td>\n",
       "    </tr>\n",
       "    <tr>\n",
       "      <th>2127</th>\n",
       "      <td>Southeast campus</td>\n",
       "      <td>4</td>\n",
       "      <td>3</td>\n",
       "      <td>0</td>\n",
       "      <td>1</td>\n",
       "    </tr>\n",
       "    <tr>\n",
       "      <th>458</th>\n",
       "      <td>Remote</td>\n",
       "      <td>1</td>\n",
       "      <td>3</td>\n",
       "      <td>0</td>\n",
       "      <td>0</td>\n",
       "    </tr>\n",
       "  </tbody>\n",
       "</table>\n",
       "</div>"
      ],
      "text/plain": [
       "              Location  Technical  Comm Travel  num_min_exp_binned\n",
       "429                 HQ          3     4      0                   0\n",
       "1185                HQ          3     2  10-15                   1\n",
       "2116                HQ          3     5      0                   0\n",
       "2127  Southeast campus          4     3      0                   1\n",
       "458             Remote          1     3      0                   0"
      ]
     },
     "execution_count": 44,
     "metadata": {},
     "output_type": "execute_result"
    }
   ],
   "source": [
    "x_train.head(5)"
   ]
  },
  {
   "cell_type": "code",
   "execution_count": 45,
   "metadata": {
    "colab": {
     "base_uri": "https://localhost:8080/"
    },
    "id": "1ImjB0l6zNMW",
    "outputId": "b1bad4f8-1cde-4ce6-9c23-79263e5d3e03"
   },
   "outputs": [
    {
     "data": {
      "text/plain": [
       "array([[ 0.59306224,  0.9780514 , -1.0808165 , ...,  0.        ,\n",
       "         0.        ,  0.        ],\n",
       "       [ 0.59306224, -1.25579419,  0.92522644, ...,  0.        ,\n",
       "         1.        ,  0.        ],\n",
       "       [ 0.59306224,  2.09497419, -1.0808165 , ...,  0.        ,\n",
       "         0.        ,  0.        ],\n",
       "       ...,\n",
       "       [ 0.59306224, -1.25579419, -1.0808165 , ...,  0.        ,\n",
       "         0.        ,  1.        ],\n",
       "       [-0.23136749, -0.1388714 ,  0.92522644, ...,  0.        ,\n",
       "         0.        ,  0.        ],\n",
       "       [-0.23136749, -0.1388714 , -1.0808165 , ...,  0.        ,\n",
       "         0.        ,  0.        ]])"
      ]
     },
     "execution_count": 45,
     "metadata": {},
     "output_type": "execute_result"
    }
   ],
   "source": [
    "#To fit and transform the train data\n",
    "\n",
    "transformed_train_data = preprocessor.fit_transform(x_train)\n",
    "\n",
    "transformed_train_data"
   ]
  },
  {
   "cell_type": "code",
   "execution_count": 46,
   "metadata": {
    "colab": {
     "base_uri": "https://localhost:8080/"
    },
    "id": "blSseJxLzNMX",
    "outputId": "4e133c6c-1c50-41c3-aac8-4cf03c268c25"
   },
   "outputs": [
    {
     "data": {
      "text/plain": [
       "array([[-0.23136749, -0.1388714 , -1.0808165 , ...,  0.        ,\n",
       "         0.        ,  0.        ],\n",
       "       [ 0.59306224, -2.37271699,  0.92522644, ...,  0.        ,\n",
       "         0.        ,  1.        ],\n",
       "       [ 0.59306224, -1.25579419,  0.92522644, ...,  0.        ,\n",
       "         0.        ,  0.        ],\n",
       "       ...,\n",
       "       [-0.23136749,  0.9780514 , -1.0808165 , ...,  0.        ,\n",
       "         0.        ,  0.        ],\n",
       "       [ 2.24192171, -1.25579419,  0.92522644, ...,  1.        ,\n",
       "         0.        ,  0.        ],\n",
       "       [-1.05579722,  0.9780514 ,  0.92522644, ...,  0.        ,\n",
       "         0.        ,  0.        ]])"
      ]
     },
     "execution_count": 46,
     "metadata": {},
     "output_type": "execute_result"
    }
   ],
   "source": [
    "# To Transform the test data\n",
    "\n",
    "transformed_test_data = preprocessor.transform(x_test)\n",
    "\n",
    "transformed_test_data"
   ]
  },
  {
   "cell_type": "code",
   "execution_count": 47,
   "metadata": {
    "colab": {
     "base_uri": "https://localhost:8080/"
    },
    "id": "QShmO4xdzNMX",
    "outputId": "5278012c-4b77-4acd-aa6e-551e5a674bc8"
   },
   "outputs": [
    {
     "data": {
      "text/plain": [
       "(1689, 12)"
      ]
     },
     "execution_count": 47,
     "metadata": {},
     "output_type": "execute_result"
    }
   ],
   "source": [
    "# To check the dimensionality of the transformed train dataframe\n",
    "\n",
    "transformed_train_data.shape"
   ]
  },
  {
   "cell_type": "code",
   "execution_count": 48,
   "metadata": {
    "colab": {
     "base_uri": "https://localhost:8080/"
    },
    "id": "w9P2T0SEzNMX",
    "outputId": "91b29c7e-5c89-41fa-b6b2-dbca8d9fff92"
   },
   "outputs": [
    {
     "data": {
      "text/plain": [
       "(724, 12)"
      ]
     },
     "execution_count": 48,
     "metadata": {},
     "output_type": "execute_result"
    }
   ],
   "source": [
    "# To check the dimensionality of the transformed test dataframe\n",
    "\n",
    "transformed_test_data.shape"
   ]
  },
  {
   "cell_type": "code",
   "execution_count": 49,
   "metadata": {
    "colab": {
     "base_uri": "https://localhost:8080/",
     "height": 235
    },
    "id": "FW28buQkA1J0",
    "outputId": "5235ccac-fb86-4b56-839d-7b029b61e7d5"
   },
   "outputs": [
    {
     "data": {
      "text/html": [
       "<div>\n",
       "<style scoped>\n",
       "    .dataframe tbody tr th:only-of-type {\n",
       "        vertical-align: middle;\n",
       "    }\n",
       "\n",
       "    .dataframe tbody tr th {\n",
       "        vertical-align: top;\n",
       "    }\n",
       "\n",
       "    .dataframe thead th {\n",
       "        text-align: right;\n",
       "    }\n",
       "</style>\n",
       "<table border=\"1\" class=\"dataframe\">\n",
       "  <thead>\n",
       "    <tr style=\"text-align: right;\">\n",
       "      <th></th>\n",
       "      <th>0</th>\n",
       "      <th>1</th>\n",
       "      <th>2</th>\n",
       "      <th>3</th>\n",
       "      <th>4</th>\n",
       "      <th>5</th>\n",
       "      <th>6</th>\n",
       "      <th>7</th>\n",
       "      <th>8</th>\n",
       "      <th>9</th>\n",
       "      <th>...</th>\n",
       "      <th>490</th>\n",
       "      <th>491</th>\n",
       "      <th>492</th>\n",
       "      <th>493</th>\n",
       "      <th>494</th>\n",
       "      <th>495</th>\n",
       "      <th>496</th>\n",
       "      <th>497</th>\n",
       "      <th>498</th>\n",
       "      <th>499</th>\n",
       "    </tr>\n",
       "  </thead>\n",
       "  <tbody>\n",
       "    <tr>\n",
       "      <th>0</th>\n",
       "      <td>0.000000</td>\n",
       "      <td>0.0</td>\n",
       "      <td>0.0</td>\n",
       "      <td>0.054215</td>\n",
       "      <td>0.000000</td>\n",
       "      <td>0.0</td>\n",
       "      <td>0.0</td>\n",
       "      <td>0.0</td>\n",
       "      <td>0.0</td>\n",
       "      <td>0.000000</td>\n",
       "      <td>...</td>\n",
       "      <td>0.000000</td>\n",
       "      <td>0.000000</td>\n",
       "      <td>0.000000</td>\n",
       "      <td>0.000000</td>\n",
       "      <td>0.000000</td>\n",
       "      <td>0.0</td>\n",
       "      <td>0.0</td>\n",
       "      <td>0.00000</td>\n",
       "      <td>0.0</td>\n",
       "      <td>0.0</td>\n",
       "    </tr>\n",
       "    <tr>\n",
       "      <th>1</th>\n",
       "      <td>0.083125</td>\n",
       "      <td>0.0</td>\n",
       "      <td>0.0</td>\n",
       "      <td>0.000000</td>\n",
       "      <td>0.000000</td>\n",
       "      <td>0.0</td>\n",
       "      <td>0.0</td>\n",
       "      <td>0.0</td>\n",
       "      <td>0.0</td>\n",
       "      <td>0.000000</td>\n",
       "      <td>...</td>\n",
       "      <td>0.000000</td>\n",
       "      <td>0.000000</td>\n",
       "      <td>0.000000</td>\n",
       "      <td>0.000000</td>\n",
       "      <td>0.057372</td>\n",
       "      <td>0.0</td>\n",
       "      <td>0.0</td>\n",
       "      <td>0.00000</td>\n",
       "      <td>0.0</td>\n",
       "      <td>0.0</td>\n",
       "    </tr>\n",
       "    <tr>\n",
       "      <th>2</th>\n",
       "      <td>0.000000</td>\n",
       "      <td>0.0</td>\n",
       "      <td>0.0</td>\n",
       "      <td>0.000000</td>\n",
       "      <td>0.056762</td>\n",
       "      <td>0.0</td>\n",
       "      <td>0.0</td>\n",
       "      <td>0.0</td>\n",
       "      <td>0.0</td>\n",
       "      <td>0.000000</td>\n",
       "      <td>...</td>\n",
       "      <td>0.057354</td>\n",
       "      <td>0.056418</td>\n",
       "      <td>0.000000</td>\n",
       "      <td>0.000000</td>\n",
       "      <td>0.000000</td>\n",
       "      <td>0.0</td>\n",
       "      <td>0.0</td>\n",
       "      <td>0.07477</td>\n",
       "      <td>0.0</td>\n",
       "      <td>0.0</td>\n",
       "    </tr>\n",
       "    <tr>\n",
       "      <th>3</th>\n",
       "      <td>0.000000</td>\n",
       "      <td>0.0</td>\n",
       "      <td>0.0</td>\n",
       "      <td>0.000000</td>\n",
       "      <td>0.000000</td>\n",
       "      <td>0.0</td>\n",
       "      <td>0.0</td>\n",
       "      <td>0.0</td>\n",
       "      <td>0.0</td>\n",
       "      <td>0.000000</td>\n",
       "      <td>...</td>\n",
       "      <td>0.000000</td>\n",
       "      <td>0.000000</td>\n",
       "      <td>0.000000</td>\n",
       "      <td>0.000000</td>\n",
       "      <td>0.105428</td>\n",
       "      <td>0.0</td>\n",
       "      <td>0.0</td>\n",
       "      <td>0.00000</td>\n",
       "      <td>0.0</td>\n",
       "      <td>0.0</td>\n",
       "    </tr>\n",
       "    <tr>\n",
       "      <th>4</th>\n",
       "      <td>0.000000</td>\n",
       "      <td>0.0</td>\n",
       "      <td>0.0</td>\n",
       "      <td>0.000000</td>\n",
       "      <td>0.000000</td>\n",
       "      <td>0.0</td>\n",
       "      <td>0.0</td>\n",
       "      <td>0.0</td>\n",
       "      <td>0.0</td>\n",
       "      <td>0.041552</td>\n",
       "      <td>...</td>\n",
       "      <td>0.000000</td>\n",
       "      <td>0.000000</td>\n",
       "      <td>0.043824</td>\n",
       "      <td>0.022334</td>\n",
       "      <td>0.000000</td>\n",
       "      <td>0.0</td>\n",
       "      <td>0.0</td>\n",
       "      <td>0.00000</td>\n",
       "      <td>0.0</td>\n",
       "      <td>0.0</td>\n",
       "    </tr>\n",
       "  </tbody>\n",
       "</table>\n",
       "<p>5 rows × 500 columns</p>\n",
       "</div>"
      ],
      "text/plain": [
       "        0    1    2         3         4    5    6    7    8         9    ...  \\\n",
       "0  0.000000  0.0  0.0  0.054215  0.000000  0.0  0.0  0.0  0.0  0.000000  ...   \n",
       "1  0.083125  0.0  0.0  0.000000  0.000000  0.0  0.0  0.0  0.0  0.000000  ...   \n",
       "2  0.000000  0.0  0.0  0.000000  0.056762  0.0  0.0  0.0  0.0  0.000000  ...   \n",
       "3  0.000000  0.0  0.0  0.000000  0.000000  0.0  0.0  0.0  0.0  0.000000  ...   \n",
       "4  0.000000  0.0  0.0  0.000000  0.000000  0.0  0.0  0.0  0.0  0.041552  ...   \n",
       "\n",
       "        490       491       492       493       494  495  496      497  498  \\\n",
       "0  0.000000  0.000000  0.000000  0.000000  0.000000  0.0  0.0  0.00000  0.0   \n",
       "1  0.000000  0.000000  0.000000  0.000000  0.057372  0.0  0.0  0.00000  0.0   \n",
       "2  0.057354  0.056418  0.000000  0.000000  0.000000  0.0  0.0  0.07477  0.0   \n",
       "3  0.000000  0.000000  0.000000  0.000000  0.105428  0.0  0.0  0.00000  0.0   \n",
       "4  0.000000  0.000000  0.043824  0.022334  0.000000  0.0  0.0  0.00000  0.0   \n",
       "\n",
       "   499  \n",
       "0  0.0  \n",
       "1  0.0  \n",
       "2  0.0  \n",
       "3  0.0  \n",
       "4  0.0  \n",
       "\n",
       "[5 rows x 500 columns]"
      ]
     },
     "execution_count": 49,
     "metadata": {},
     "output_type": "execute_result"
    }
   ],
   "source": [
    "# first, transforming csr_matrix (i.e. train_x_tfidf) into dataframe for train data \n",
    "\n",
    "transformed_train_x_tfidf = pd.DataFrame(train_x_tfidf.todense())\n",
    "transformed_train_x_tfidf.head(5)"
   ]
  },
  {
   "cell_type": "code",
   "execution_count": 50,
   "metadata": {
    "colab": {
     "base_uri": "https://localhost:8080/",
     "height": 235
    },
    "id": "9ywehBbrA1X2",
    "outputId": "c0a7a5ca-365c-4542-b1be-3eeb7b89823a"
   },
   "outputs": [
    {
     "data": {
      "text/html": [
       "<div>\n",
       "<style scoped>\n",
       "    .dataframe tbody tr th:only-of-type {\n",
       "        vertical-align: middle;\n",
       "    }\n",
       "\n",
       "    .dataframe tbody tr th {\n",
       "        vertical-align: top;\n",
       "    }\n",
       "\n",
       "    .dataframe thead th {\n",
       "        text-align: right;\n",
       "    }\n",
       "</style>\n",
       "<table border=\"1\" class=\"dataframe\">\n",
       "  <thead>\n",
       "    <tr style=\"text-align: right;\">\n",
       "      <th></th>\n",
       "      <th>0</th>\n",
       "      <th>1</th>\n",
       "      <th>2</th>\n",
       "      <th>3</th>\n",
       "      <th>4</th>\n",
       "      <th>5</th>\n",
       "      <th>6</th>\n",
       "      <th>7</th>\n",
       "      <th>8</th>\n",
       "      <th>9</th>\n",
       "      <th>...</th>\n",
       "      <th>490</th>\n",
       "      <th>491</th>\n",
       "      <th>492</th>\n",
       "      <th>493</th>\n",
       "      <th>494</th>\n",
       "      <th>495</th>\n",
       "      <th>496</th>\n",
       "      <th>497</th>\n",
       "      <th>498</th>\n",
       "      <th>499</th>\n",
       "    </tr>\n",
       "  </thead>\n",
       "  <tbody>\n",
       "    <tr>\n",
       "      <th>0</th>\n",
       "      <td>0.000000</td>\n",
       "      <td>0.0</td>\n",
       "      <td>0.0</td>\n",
       "      <td>0.054215</td>\n",
       "      <td>0.000000</td>\n",
       "      <td>0.0</td>\n",
       "      <td>0.0</td>\n",
       "      <td>0.0</td>\n",
       "      <td>0.0</td>\n",
       "      <td>0.000000</td>\n",
       "      <td>...</td>\n",
       "      <td>0.000000</td>\n",
       "      <td>0.000000</td>\n",
       "      <td>0.000000</td>\n",
       "      <td>0.000000</td>\n",
       "      <td>0.000000</td>\n",
       "      <td>0.0</td>\n",
       "      <td>0.0</td>\n",
       "      <td>0.00000</td>\n",
       "      <td>0.0</td>\n",
       "      <td>0.0</td>\n",
       "    </tr>\n",
       "    <tr>\n",
       "      <th>1</th>\n",
       "      <td>0.083125</td>\n",
       "      <td>0.0</td>\n",
       "      <td>0.0</td>\n",
       "      <td>0.000000</td>\n",
       "      <td>0.000000</td>\n",
       "      <td>0.0</td>\n",
       "      <td>0.0</td>\n",
       "      <td>0.0</td>\n",
       "      <td>0.0</td>\n",
       "      <td>0.000000</td>\n",
       "      <td>...</td>\n",
       "      <td>0.000000</td>\n",
       "      <td>0.000000</td>\n",
       "      <td>0.000000</td>\n",
       "      <td>0.000000</td>\n",
       "      <td>0.057372</td>\n",
       "      <td>0.0</td>\n",
       "      <td>0.0</td>\n",
       "      <td>0.00000</td>\n",
       "      <td>0.0</td>\n",
       "      <td>0.0</td>\n",
       "    </tr>\n",
       "    <tr>\n",
       "      <th>2</th>\n",
       "      <td>0.000000</td>\n",
       "      <td>0.0</td>\n",
       "      <td>0.0</td>\n",
       "      <td>0.000000</td>\n",
       "      <td>0.056762</td>\n",
       "      <td>0.0</td>\n",
       "      <td>0.0</td>\n",
       "      <td>0.0</td>\n",
       "      <td>0.0</td>\n",
       "      <td>0.000000</td>\n",
       "      <td>...</td>\n",
       "      <td>0.057354</td>\n",
       "      <td>0.056418</td>\n",
       "      <td>0.000000</td>\n",
       "      <td>0.000000</td>\n",
       "      <td>0.000000</td>\n",
       "      <td>0.0</td>\n",
       "      <td>0.0</td>\n",
       "      <td>0.07477</td>\n",
       "      <td>0.0</td>\n",
       "      <td>0.0</td>\n",
       "    </tr>\n",
       "    <tr>\n",
       "      <th>3</th>\n",
       "      <td>0.000000</td>\n",
       "      <td>0.0</td>\n",
       "      <td>0.0</td>\n",
       "      <td>0.000000</td>\n",
       "      <td>0.000000</td>\n",
       "      <td>0.0</td>\n",
       "      <td>0.0</td>\n",
       "      <td>0.0</td>\n",
       "      <td>0.0</td>\n",
       "      <td>0.000000</td>\n",
       "      <td>...</td>\n",
       "      <td>0.000000</td>\n",
       "      <td>0.000000</td>\n",
       "      <td>0.000000</td>\n",
       "      <td>0.000000</td>\n",
       "      <td>0.105428</td>\n",
       "      <td>0.0</td>\n",
       "      <td>0.0</td>\n",
       "      <td>0.00000</td>\n",
       "      <td>0.0</td>\n",
       "      <td>0.0</td>\n",
       "    </tr>\n",
       "    <tr>\n",
       "      <th>4</th>\n",
       "      <td>0.000000</td>\n",
       "      <td>0.0</td>\n",
       "      <td>0.0</td>\n",
       "      <td>0.000000</td>\n",
       "      <td>0.000000</td>\n",
       "      <td>0.0</td>\n",
       "      <td>0.0</td>\n",
       "      <td>0.0</td>\n",
       "      <td>0.0</td>\n",
       "      <td>0.041552</td>\n",
       "      <td>...</td>\n",
       "      <td>0.000000</td>\n",
       "      <td>0.000000</td>\n",
       "      <td>0.043824</td>\n",
       "      <td>0.022334</td>\n",
       "      <td>0.000000</td>\n",
       "      <td>0.0</td>\n",
       "      <td>0.0</td>\n",
       "      <td>0.00000</td>\n",
       "      <td>0.0</td>\n",
       "      <td>0.0</td>\n",
       "    </tr>\n",
       "  </tbody>\n",
       "</table>\n",
       "<p>5 rows × 500 columns</p>\n",
       "</div>"
      ],
      "text/plain": [
       "        0    1    2         3         4    5    6    7    8         9    ...  \\\n",
       "0  0.000000  0.0  0.0  0.054215  0.000000  0.0  0.0  0.0  0.0  0.000000  ...   \n",
       "1  0.083125  0.0  0.0  0.000000  0.000000  0.0  0.0  0.0  0.0  0.000000  ...   \n",
       "2  0.000000  0.0  0.0  0.000000  0.056762  0.0  0.0  0.0  0.0  0.000000  ...   \n",
       "3  0.000000  0.0  0.0  0.000000  0.000000  0.0  0.0  0.0  0.0  0.000000  ...   \n",
       "4  0.000000  0.0  0.0  0.000000  0.000000  0.0  0.0  0.0  0.0  0.041552  ...   \n",
       "\n",
       "        490       491       492       493       494  495  496      497  498  \\\n",
       "0  0.000000  0.000000  0.000000  0.000000  0.000000  0.0  0.0  0.00000  0.0   \n",
       "1  0.000000  0.000000  0.000000  0.000000  0.057372  0.0  0.0  0.00000  0.0   \n",
       "2  0.057354  0.056418  0.000000  0.000000  0.000000  0.0  0.0  0.07477  0.0   \n",
       "3  0.000000  0.000000  0.000000  0.000000  0.105428  0.0  0.0  0.00000  0.0   \n",
       "4  0.000000  0.000000  0.043824  0.022334  0.000000  0.0  0.0  0.00000  0.0   \n",
       "\n",
       "   499  \n",
       "0  0.0  \n",
       "1  0.0  \n",
       "2  0.0  \n",
       "3  0.0  \n",
       "4  0.0  \n",
       "\n",
       "[5 rows x 500 columns]"
      ]
     },
     "execution_count": 50,
     "metadata": {},
     "output_type": "execute_result"
    }
   ],
   "source": [
    "# transforming csr_matrix (i.e. test_x_tfidf) into dataframe for test data as well\n",
    "\n",
    "transformed_test_x_tfidf = pd.DataFrame(test_x_tfidf.todense())\n",
    "transformed_train_x_tfidf.head(5)"
   ]
  },
  {
   "cell_type": "code",
   "execution_count": 51,
   "metadata": {
    "colab": {
     "base_uri": "https://localhost:8080/",
     "height": 206
    },
    "id": "CRt34JnTEQdw",
    "outputId": "3c4b2d2a-4d1e-4162-c09d-9e3a38a06b2e"
   },
   "outputs": [
    {
     "data": {
      "text/html": [
       "<div>\n",
       "<style scoped>\n",
       "    .dataframe tbody tr th:only-of-type {\n",
       "        vertical-align: middle;\n",
       "    }\n",
       "\n",
       "    .dataframe tbody tr th {\n",
       "        vertical-align: top;\n",
       "    }\n",
       "\n",
       "    .dataframe thead th {\n",
       "        text-align: right;\n",
       "    }\n",
       "</style>\n",
       "<table border=\"1\" class=\"dataframe\">\n",
       "  <thead>\n",
       "    <tr style=\"text-align: right;\">\n",
       "      <th></th>\n",
       "      <th>0</th>\n",
       "      <th>1</th>\n",
       "      <th>2</th>\n",
       "      <th>3</th>\n",
       "      <th>4</th>\n",
       "      <th>5</th>\n",
       "      <th>6</th>\n",
       "      <th>7</th>\n",
       "      <th>8</th>\n",
       "      <th>9</th>\n",
       "      <th>10</th>\n",
       "      <th>11</th>\n",
       "    </tr>\n",
       "  </thead>\n",
       "  <tbody>\n",
       "    <tr>\n",
       "      <th>0</th>\n",
       "      <td>0.593062</td>\n",
       "      <td>0.978051</td>\n",
       "      <td>-1.080817</td>\n",
       "      <td>0.0</td>\n",
       "      <td>1.0</td>\n",
       "      <td>0.0</td>\n",
       "      <td>0.0</td>\n",
       "      <td>0.0</td>\n",
       "      <td>1.0</td>\n",
       "      <td>0.0</td>\n",
       "      <td>0.0</td>\n",
       "      <td>0.0</td>\n",
       "    </tr>\n",
       "    <tr>\n",
       "      <th>1</th>\n",
       "      <td>0.593062</td>\n",
       "      <td>-1.255794</td>\n",
       "      <td>0.925226</td>\n",
       "      <td>0.0</td>\n",
       "      <td>1.0</td>\n",
       "      <td>0.0</td>\n",
       "      <td>0.0</td>\n",
       "      <td>0.0</td>\n",
       "      <td>0.0</td>\n",
       "      <td>0.0</td>\n",
       "      <td>1.0</td>\n",
       "      <td>0.0</td>\n",
       "    </tr>\n",
       "    <tr>\n",
       "      <th>2</th>\n",
       "      <td>0.593062</td>\n",
       "      <td>2.094974</td>\n",
       "      <td>-1.080817</td>\n",
       "      <td>0.0</td>\n",
       "      <td>1.0</td>\n",
       "      <td>0.0</td>\n",
       "      <td>0.0</td>\n",
       "      <td>0.0</td>\n",
       "      <td>1.0</td>\n",
       "      <td>0.0</td>\n",
       "      <td>0.0</td>\n",
       "      <td>0.0</td>\n",
       "    </tr>\n",
       "    <tr>\n",
       "      <th>3</th>\n",
       "      <td>1.417492</td>\n",
       "      <td>-0.138871</td>\n",
       "      <td>0.925226</td>\n",
       "      <td>0.0</td>\n",
       "      <td>0.0</td>\n",
       "      <td>0.0</td>\n",
       "      <td>1.0</td>\n",
       "      <td>0.0</td>\n",
       "      <td>1.0</td>\n",
       "      <td>0.0</td>\n",
       "      <td>0.0</td>\n",
       "      <td>0.0</td>\n",
       "    </tr>\n",
       "    <tr>\n",
       "      <th>4</th>\n",
       "      <td>-1.055797</td>\n",
       "      <td>-0.138871</td>\n",
       "      <td>-1.080817</td>\n",
       "      <td>0.0</td>\n",
       "      <td>0.0</td>\n",
       "      <td>1.0</td>\n",
       "      <td>0.0</td>\n",
       "      <td>0.0</td>\n",
       "      <td>1.0</td>\n",
       "      <td>0.0</td>\n",
       "      <td>0.0</td>\n",
       "      <td>0.0</td>\n",
       "    </tr>\n",
       "  </tbody>\n",
       "</table>\n",
       "</div>"
      ],
      "text/plain": [
       "         0         1         2    3    4    5    6    7    8    9    10   11\n",
       "0  0.593062  0.978051 -1.080817  0.0  1.0  0.0  0.0  0.0  1.0  0.0  0.0  0.0\n",
       "1  0.593062 -1.255794  0.925226  0.0  1.0  0.0  0.0  0.0  0.0  0.0  1.0  0.0\n",
       "2  0.593062  2.094974 -1.080817  0.0  1.0  0.0  0.0  0.0  1.0  0.0  0.0  0.0\n",
       "3  1.417492 -0.138871  0.925226  0.0  0.0  0.0  1.0  0.0  1.0  0.0  0.0  0.0\n",
       "4 -1.055797 -0.138871 -1.080817  0.0  0.0  1.0  0.0  0.0  1.0  0.0  0.0  0.0"
      ]
     },
     "execution_count": 51,
     "metadata": {},
     "output_type": "execute_result"
    }
   ],
   "source": [
    "# transforming numpy array (i.e. transformed_train_data) into dataframe for training dataset\n",
    "\n",
    "sliced_train_df = pd.DataFrame(transformed_train_data)\n",
    "sliced_train_df.head(5)"
   ]
  },
  {
   "cell_type": "code",
   "execution_count": 52,
   "metadata": {
    "colab": {
     "base_uri": "https://localhost:8080/",
     "height": 206
    },
    "id": "M9pC478IEoLq",
    "outputId": "5deeefc5-3e3f-430b-caaa-31d268652d55"
   },
   "outputs": [
    {
     "data": {
      "text/html": [
       "<div>\n",
       "<style scoped>\n",
       "    .dataframe tbody tr th:only-of-type {\n",
       "        vertical-align: middle;\n",
       "    }\n",
       "\n",
       "    .dataframe tbody tr th {\n",
       "        vertical-align: top;\n",
       "    }\n",
       "\n",
       "    .dataframe thead th {\n",
       "        text-align: right;\n",
       "    }\n",
       "</style>\n",
       "<table border=\"1\" class=\"dataframe\">\n",
       "  <thead>\n",
       "    <tr style=\"text-align: right;\">\n",
       "      <th></th>\n",
       "      <th>0</th>\n",
       "      <th>1</th>\n",
       "      <th>2</th>\n",
       "      <th>3</th>\n",
       "      <th>4</th>\n",
       "      <th>5</th>\n",
       "      <th>6</th>\n",
       "      <th>7</th>\n",
       "      <th>8</th>\n",
       "      <th>9</th>\n",
       "      <th>10</th>\n",
       "      <th>11</th>\n",
       "    </tr>\n",
       "  </thead>\n",
       "  <tbody>\n",
       "    <tr>\n",
       "      <th>0</th>\n",
       "      <td>-0.231367</td>\n",
       "      <td>-0.138871</td>\n",
       "      <td>-1.080817</td>\n",
       "      <td>0.0</td>\n",
       "      <td>1.0</td>\n",
       "      <td>0.0</td>\n",
       "      <td>0.0</td>\n",
       "      <td>0.0</td>\n",
       "      <td>1.0</td>\n",
       "      <td>0.0</td>\n",
       "      <td>0.0</td>\n",
       "      <td>0.0</td>\n",
       "    </tr>\n",
       "    <tr>\n",
       "      <th>1</th>\n",
       "      <td>0.593062</td>\n",
       "      <td>-2.372717</td>\n",
       "      <td>0.925226</td>\n",
       "      <td>0.0</td>\n",
       "      <td>1.0</td>\n",
       "      <td>0.0</td>\n",
       "      <td>0.0</td>\n",
       "      <td>0.0</td>\n",
       "      <td>0.0</td>\n",
       "      <td>0.0</td>\n",
       "      <td>0.0</td>\n",
       "      <td>1.0</td>\n",
       "    </tr>\n",
       "    <tr>\n",
       "      <th>2</th>\n",
       "      <td>0.593062</td>\n",
       "      <td>-1.255794</td>\n",
       "      <td>0.925226</td>\n",
       "      <td>1.0</td>\n",
       "      <td>0.0</td>\n",
       "      <td>0.0</td>\n",
       "      <td>0.0</td>\n",
       "      <td>0.0</td>\n",
       "      <td>1.0</td>\n",
       "      <td>0.0</td>\n",
       "      <td>0.0</td>\n",
       "      <td>0.0</td>\n",
       "    </tr>\n",
       "    <tr>\n",
       "      <th>3</th>\n",
       "      <td>0.593062</td>\n",
       "      <td>-1.255794</td>\n",
       "      <td>-1.080817</td>\n",
       "      <td>1.0</td>\n",
       "      <td>0.0</td>\n",
       "      <td>0.0</td>\n",
       "      <td>0.0</td>\n",
       "      <td>0.0</td>\n",
       "      <td>1.0</td>\n",
       "      <td>0.0</td>\n",
       "      <td>0.0</td>\n",
       "      <td>0.0</td>\n",
       "    </tr>\n",
       "    <tr>\n",
       "      <th>4</th>\n",
       "      <td>-0.231367</td>\n",
       "      <td>-1.255794</td>\n",
       "      <td>-1.080817</td>\n",
       "      <td>1.0</td>\n",
       "      <td>0.0</td>\n",
       "      <td>0.0</td>\n",
       "      <td>0.0</td>\n",
       "      <td>0.0</td>\n",
       "      <td>1.0</td>\n",
       "      <td>0.0</td>\n",
       "      <td>0.0</td>\n",
       "      <td>0.0</td>\n",
       "    </tr>\n",
       "  </tbody>\n",
       "</table>\n",
       "</div>"
      ],
      "text/plain": [
       "         0         1         2    3    4    5    6    7    8    9    10   11\n",
       "0 -0.231367 -0.138871 -1.080817  0.0  1.0  0.0  0.0  0.0  1.0  0.0  0.0  0.0\n",
       "1  0.593062 -2.372717  0.925226  0.0  1.0  0.0  0.0  0.0  0.0  0.0  0.0  1.0\n",
       "2  0.593062 -1.255794  0.925226  1.0  0.0  0.0  0.0  0.0  1.0  0.0  0.0  0.0\n",
       "3  0.593062 -1.255794 -1.080817  1.0  0.0  0.0  0.0  0.0  1.0  0.0  0.0  0.0\n",
       "4 -0.231367 -1.255794 -1.080817  1.0  0.0  0.0  0.0  0.0  1.0  0.0  0.0  0.0"
      ]
     },
     "execution_count": 52,
     "metadata": {},
     "output_type": "execute_result"
    }
   ],
   "source": [
    "# transforming numpy array (i.e. transformed_test_data) into dataframe for test dataset\n",
    "\n",
    "sliced_test_df = pd.DataFrame(transformed_test_data)\n",
    "sliced_test_df.head(5)"
   ]
  },
  {
   "cell_type": "markdown",
   "metadata": {
    "id": "FvJ3KnrAT_8W"
   },
   "source": [
    "**Combining \"transformed_train_x_tfidf\" and \"sliced_train_df\" dataframes into a combined dataframe so that we can consider all features to predict Salary:-**\n",
    "\n",
    "**Doing the same procedure for test data i.e. merging \"transformed_test_x_tfidf\" with \"sliced_test_df\" into a combined dataframe**"
   ]
  },
  {
   "cell_type": "code",
   "execution_count": 53,
   "metadata": {
    "colab": {
     "base_uri": "https://localhost:8080/",
     "height": 235
    },
    "id": "7yOPXbcf_bb5",
    "outputId": "074e7fec-1de0-4594-e80c-4e963ddb86b4"
   },
   "outputs": [
    {
     "data": {
      "text/html": [
       "<div>\n",
       "<style scoped>\n",
       "    .dataframe tbody tr th:only-of-type {\n",
       "        vertical-align: middle;\n",
       "    }\n",
       "\n",
       "    .dataframe tbody tr th {\n",
       "        vertical-align: top;\n",
       "    }\n",
       "\n",
       "    .dataframe thead th {\n",
       "        text-align: right;\n",
       "    }\n",
       "</style>\n",
       "<table border=\"1\" class=\"dataframe\">\n",
       "  <thead>\n",
       "    <tr style=\"text-align: right;\">\n",
       "      <th></th>\n",
       "      <th>0</th>\n",
       "      <th>1</th>\n",
       "      <th>2</th>\n",
       "      <th>3</th>\n",
       "      <th>4</th>\n",
       "      <th>5</th>\n",
       "      <th>6</th>\n",
       "      <th>7</th>\n",
       "      <th>8</th>\n",
       "      <th>9</th>\n",
       "      <th>...</th>\n",
       "      <th>2</th>\n",
       "      <th>3</th>\n",
       "      <th>4</th>\n",
       "      <th>5</th>\n",
       "      <th>6</th>\n",
       "      <th>7</th>\n",
       "      <th>8</th>\n",
       "      <th>9</th>\n",
       "      <th>10</th>\n",
       "      <th>11</th>\n",
       "    </tr>\n",
       "  </thead>\n",
       "  <tbody>\n",
       "    <tr>\n",
       "      <th>0</th>\n",
       "      <td>0.000000</td>\n",
       "      <td>0.0</td>\n",
       "      <td>0.0</td>\n",
       "      <td>0.054215</td>\n",
       "      <td>0.000000</td>\n",
       "      <td>0.0</td>\n",
       "      <td>0.0</td>\n",
       "      <td>0.0</td>\n",
       "      <td>0.0</td>\n",
       "      <td>0.000000</td>\n",
       "      <td>...</td>\n",
       "      <td>-1.080817</td>\n",
       "      <td>0.0</td>\n",
       "      <td>1.0</td>\n",
       "      <td>0.0</td>\n",
       "      <td>0.0</td>\n",
       "      <td>0.0</td>\n",
       "      <td>1.0</td>\n",
       "      <td>0.0</td>\n",
       "      <td>0.0</td>\n",
       "      <td>0.0</td>\n",
       "    </tr>\n",
       "    <tr>\n",
       "      <th>1</th>\n",
       "      <td>0.083125</td>\n",
       "      <td>0.0</td>\n",
       "      <td>0.0</td>\n",
       "      <td>0.000000</td>\n",
       "      <td>0.000000</td>\n",
       "      <td>0.0</td>\n",
       "      <td>0.0</td>\n",
       "      <td>0.0</td>\n",
       "      <td>0.0</td>\n",
       "      <td>0.000000</td>\n",
       "      <td>...</td>\n",
       "      <td>0.925226</td>\n",
       "      <td>0.0</td>\n",
       "      <td>1.0</td>\n",
       "      <td>0.0</td>\n",
       "      <td>0.0</td>\n",
       "      <td>0.0</td>\n",
       "      <td>0.0</td>\n",
       "      <td>0.0</td>\n",
       "      <td>1.0</td>\n",
       "      <td>0.0</td>\n",
       "    </tr>\n",
       "    <tr>\n",
       "      <th>2</th>\n",
       "      <td>0.000000</td>\n",
       "      <td>0.0</td>\n",
       "      <td>0.0</td>\n",
       "      <td>0.000000</td>\n",
       "      <td>0.056762</td>\n",
       "      <td>0.0</td>\n",
       "      <td>0.0</td>\n",
       "      <td>0.0</td>\n",
       "      <td>0.0</td>\n",
       "      <td>0.000000</td>\n",
       "      <td>...</td>\n",
       "      <td>-1.080817</td>\n",
       "      <td>0.0</td>\n",
       "      <td>1.0</td>\n",
       "      <td>0.0</td>\n",
       "      <td>0.0</td>\n",
       "      <td>0.0</td>\n",
       "      <td>1.0</td>\n",
       "      <td>0.0</td>\n",
       "      <td>0.0</td>\n",
       "      <td>0.0</td>\n",
       "    </tr>\n",
       "    <tr>\n",
       "      <th>3</th>\n",
       "      <td>0.000000</td>\n",
       "      <td>0.0</td>\n",
       "      <td>0.0</td>\n",
       "      <td>0.000000</td>\n",
       "      <td>0.000000</td>\n",
       "      <td>0.0</td>\n",
       "      <td>0.0</td>\n",
       "      <td>0.0</td>\n",
       "      <td>0.0</td>\n",
       "      <td>0.000000</td>\n",
       "      <td>...</td>\n",
       "      <td>0.925226</td>\n",
       "      <td>0.0</td>\n",
       "      <td>0.0</td>\n",
       "      <td>0.0</td>\n",
       "      <td>1.0</td>\n",
       "      <td>0.0</td>\n",
       "      <td>1.0</td>\n",
       "      <td>0.0</td>\n",
       "      <td>0.0</td>\n",
       "      <td>0.0</td>\n",
       "    </tr>\n",
       "    <tr>\n",
       "      <th>4</th>\n",
       "      <td>0.000000</td>\n",
       "      <td>0.0</td>\n",
       "      <td>0.0</td>\n",
       "      <td>0.000000</td>\n",
       "      <td>0.000000</td>\n",
       "      <td>0.0</td>\n",
       "      <td>0.0</td>\n",
       "      <td>0.0</td>\n",
       "      <td>0.0</td>\n",
       "      <td>0.041552</td>\n",
       "      <td>...</td>\n",
       "      <td>-1.080817</td>\n",
       "      <td>0.0</td>\n",
       "      <td>0.0</td>\n",
       "      <td>1.0</td>\n",
       "      <td>0.0</td>\n",
       "      <td>0.0</td>\n",
       "      <td>1.0</td>\n",
       "      <td>0.0</td>\n",
       "      <td>0.0</td>\n",
       "      <td>0.0</td>\n",
       "    </tr>\n",
       "  </tbody>\n",
       "</table>\n",
       "<p>5 rows × 512 columns</p>\n",
       "</div>"
      ],
      "text/plain": [
       "         0    1    2         3         4    5    6    7    8         9   ...  \\\n",
       "0  0.000000  0.0  0.0  0.054215  0.000000  0.0  0.0  0.0  0.0  0.000000  ...   \n",
       "1  0.083125  0.0  0.0  0.000000  0.000000  0.0  0.0  0.0  0.0  0.000000  ...   \n",
       "2  0.000000  0.0  0.0  0.000000  0.056762  0.0  0.0  0.0  0.0  0.000000  ...   \n",
       "3  0.000000  0.0  0.0  0.000000  0.000000  0.0  0.0  0.0  0.0  0.000000  ...   \n",
       "4  0.000000  0.0  0.0  0.000000  0.000000  0.0  0.0  0.0  0.0  0.041552  ...   \n",
       "\n",
       "         2    3    4    5    6    7    8    9    10   11  \n",
       "0 -1.080817  0.0  1.0  0.0  0.0  0.0  1.0  0.0  0.0  0.0  \n",
       "1  0.925226  0.0  1.0  0.0  0.0  0.0  0.0  0.0  1.0  0.0  \n",
       "2 -1.080817  0.0  1.0  0.0  0.0  0.0  1.0  0.0  0.0  0.0  \n",
       "3  0.925226  0.0  0.0  0.0  1.0  0.0  1.0  0.0  0.0  0.0  \n",
       "4 -1.080817  0.0  0.0  1.0  0.0  0.0  1.0  0.0  0.0  0.0  \n",
       "\n",
       "[5 rows x 512 columns]"
      ]
     },
     "execution_count": 53,
     "metadata": {},
     "output_type": "execute_result"
    }
   ],
   "source": [
    "combined_train_df = pd.concat([transformed_train_x_tfidf, sliced_train_df], axis = 1)\n",
    "combined_train_df.head(5)"
   ]
  },
  {
   "cell_type": "code",
   "execution_count": 54,
   "metadata": {
    "colab": {
     "base_uri": "https://localhost:8080/",
     "height": 235
    },
    "id": "NjlIMFzIJOkD",
    "outputId": "633cb332-536d-4d8b-cad9-82d28d94db25"
   },
   "outputs": [
    {
     "data": {
      "text/html": [
       "<div>\n",
       "<style scoped>\n",
       "    .dataframe tbody tr th:only-of-type {\n",
       "        vertical-align: middle;\n",
       "    }\n",
       "\n",
       "    .dataframe tbody tr th {\n",
       "        vertical-align: top;\n",
       "    }\n",
       "\n",
       "    .dataframe thead th {\n",
       "        text-align: right;\n",
       "    }\n",
       "</style>\n",
       "<table border=\"1\" class=\"dataframe\">\n",
       "  <thead>\n",
       "    <tr style=\"text-align: right;\">\n",
       "      <th></th>\n",
       "      <th>0</th>\n",
       "      <th>1</th>\n",
       "      <th>2</th>\n",
       "      <th>3</th>\n",
       "      <th>4</th>\n",
       "      <th>5</th>\n",
       "      <th>6</th>\n",
       "      <th>7</th>\n",
       "      <th>8</th>\n",
       "      <th>9</th>\n",
       "      <th>...</th>\n",
       "      <th>2</th>\n",
       "      <th>3</th>\n",
       "      <th>4</th>\n",
       "      <th>5</th>\n",
       "      <th>6</th>\n",
       "      <th>7</th>\n",
       "      <th>8</th>\n",
       "      <th>9</th>\n",
       "      <th>10</th>\n",
       "      <th>11</th>\n",
       "    </tr>\n",
       "  </thead>\n",
       "  <tbody>\n",
       "    <tr>\n",
       "      <th>0</th>\n",
       "      <td>0.058561</td>\n",
       "      <td>0.00000</td>\n",
       "      <td>0.0</td>\n",
       "      <td>0.091689</td>\n",
       "      <td>0.000000</td>\n",
       "      <td>0.000000</td>\n",
       "      <td>0.0</td>\n",
       "      <td>0.05725</td>\n",
       "      <td>0.0</td>\n",
       "      <td>0.045312</td>\n",
       "      <td>...</td>\n",
       "      <td>-1.080817</td>\n",
       "      <td>0.0</td>\n",
       "      <td>1.0</td>\n",
       "      <td>0.0</td>\n",
       "      <td>0.0</td>\n",
       "      <td>0.0</td>\n",
       "      <td>1.0</td>\n",
       "      <td>0.0</td>\n",
       "      <td>0.0</td>\n",
       "      <td>0.0</td>\n",
       "    </tr>\n",
       "    <tr>\n",
       "      <th>1</th>\n",
       "      <td>0.000000</td>\n",
       "      <td>0.04723</td>\n",
       "      <td>0.0</td>\n",
       "      <td>0.000000</td>\n",
       "      <td>0.000000</td>\n",
       "      <td>0.060068</td>\n",
       "      <td>0.0</td>\n",
       "      <td>0.00000</td>\n",
       "      <td>0.0</td>\n",
       "      <td>0.000000</td>\n",
       "      <td>...</td>\n",
       "      <td>0.925226</td>\n",
       "      <td>0.0</td>\n",
       "      <td>1.0</td>\n",
       "      <td>0.0</td>\n",
       "      <td>0.0</td>\n",
       "      <td>0.0</td>\n",
       "      <td>0.0</td>\n",
       "      <td>0.0</td>\n",
       "      <td>0.0</td>\n",
       "      <td>1.0</td>\n",
       "    </tr>\n",
       "    <tr>\n",
       "      <th>2</th>\n",
       "      <td>0.073922</td>\n",
       "      <td>0.00000</td>\n",
       "      <td>0.0</td>\n",
       "      <td>0.000000</td>\n",
       "      <td>0.000000</td>\n",
       "      <td>0.000000</td>\n",
       "      <td>0.0</td>\n",
       "      <td>0.00000</td>\n",
       "      <td>0.0</td>\n",
       "      <td>0.000000</td>\n",
       "      <td>...</td>\n",
       "      <td>0.925226</td>\n",
       "      <td>1.0</td>\n",
       "      <td>0.0</td>\n",
       "      <td>0.0</td>\n",
       "      <td>0.0</td>\n",
       "      <td>0.0</td>\n",
       "      <td>1.0</td>\n",
       "      <td>0.0</td>\n",
       "      <td>0.0</td>\n",
       "      <td>0.0</td>\n",
       "    </tr>\n",
       "    <tr>\n",
       "      <th>3</th>\n",
       "      <td>0.000000</td>\n",
       "      <td>0.00000</td>\n",
       "      <td>0.0</td>\n",
       "      <td>0.000000</td>\n",
       "      <td>0.052995</td>\n",
       "      <td>0.000000</td>\n",
       "      <td>0.0</td>\n",
       "      <td>0.00000</td>\n",
       "      <td>0.0</td>\n",
       "      <td>0.000000</td>\n",
       "      <td>...</td>\n",
       "      <td>-1.080817</td>\n",
       "      <td>1.0</td>\n",
       "      <td>0.0</td>\n",
       "      <td>0.0</td>\n",
       "      <td>0.0</td>\n",
       "      <td>0.0</td>\n",
       "      <td>1.0</td>\n",
       "      <td>0.0</td>\n",
       "      <td>0.0</td>\n",
       "      <td>0.0</td>\n",
       "    </tr>\n",
       "    <tr>\n",
       "      <th>4</th>\n",
       "      <td>0.000000</td>\n",
       "      <td>0.00000</td>\n",
       "      <td>0.0</td>\n",
       "      <td>0.000000</td>\n",
       "      <td>0.000000</td>\n",
       "      <td>0.000000</td>\n",
       "      <td>0.0</td>\n",
       "      <td>0.00000</td>\n",
       "      <td>0.0</td>\n",
       "      <td>0.000000</td>\n",
       "      <td>...</td>\n",
       "      <td>-1.080817</td>\n",
       "      <td>1.0</td>\n",
       "      <td>0.0</td>\n",
       "      <td>0.0</td>\n",
       "      <td>0.0</td>\n",
       "      <td>0.0</td>\n",
       "      <td>1.0</td>\n",
       "      <td>0.0</td>\n",
       "      <td>0.0</td>\n",
       "      <td>0.0</td>\n",
       "    </tr>\n",
       "  </tbody>\n",
       "</table>\n",
       "<p>5 rows × 512 columns</p>\n",
       "</div>"
      ],
      "text/plain": [
       "         0        1    2         3         4         5    6        7    8   \\\n",
       "0  0.058561  0.00000  0.0  0.091689  0.000000  0.000000  0.0  0.05725  0.0   \n",
       "1  0.000000  0.04723  0.0  0.000000  0.000000  0.060068  0.0  0.00000  0.0   \n",
       "2  0.073922  0.00000  0.0  0.000000  0.000000  0.000000  0.0  0.00000  0.0   \n",
       "3  0.000000  0.00000  0.0  0.000000  0.052995  0.000000  0.0  0.00000  0.0   \n",
       "4  0.000000  0.00000  0.0  0.000000  0.000000  0.000000  0.0  0.00000  0.0   \n",
       "\n",
       "         9   ...        2    3    4    5    6    7    8    9    10   11  \n",
       "0  0.045312  ... -1.080817  0.0  1.0  0.0  0.0  0.0  1.0  0.0  0.0  0.0  \n",
       "1  0.000000  ...  0.925226  0.0  1.0  0.0  0.0  0.0  0.0  0.0  0.0  1.0  \n",
       "2  0.000000  ...  0.925226  1.0  0.0  0.0  0.0  0.0  1.0  0.0  0.0  0.0  \n",
       "3  0.000000  ... -1.080817  1.0  0.0  0.0  0.0  0.0  1.0  0.0  0.0  0.0  \n",
       "4  0.000000  ... -1.080817  1.0  0.0  0.0  0.0  0.0  1.0  0.0  0.0  0.0  \n",
       "\n",
       "[5 rows x 512 columns]"
      ]
     },
     "execution_count": 54,
     "metadata": {},
     "output_type": "execute_result"
    }
   ],
   "source": [
    "combined_test_df = pd.concat([transformed_test_x_tfidf, sliced_test_df], axis = 1)\n",
    "combined_test_df.head(5)"
   ]
  },
  {
   "cell_type": "code",
   "execution_count": 55,
   "metadata": {
    "id": "yeUHk6N3Iq-5"
   },
   "outputs": [],
   "source": [
    "# Replace NaN with zero and infinity with large finite numbers for both train and test data \n",
    "\n",
    "combined_train_df = np.nan_to_num(combined_train_df)\n",
    "combined_test_df = np.nan_to_num(combined_test_df)"
   ]
  },
  {
   "cell_type": "markdown",
   "metadata": {
    "id": "rNrlVGzlzNMX"
   },
   "source": [
    "## Find the Baseline (1 point)"
   ]
  },
  {
   "cell_type": "code",
   "execution_count": 56,
   "metadata": {
    "id": "hgu9mvWRzNMX"
   },
   "outputs": [],
   "source": [
    "from sklearn.metrics import mean_squared_error"
   ]
  },
  {
   "cell_type": "code",
   "execution_count": 57,
   "metadata": {
    "colab": {
     "base_uri": "https://localhost:8080/"
    },
    "id": "tlhZVhawzNMX",
    "outputId": "999d2121-9799-4d6c-cecd-3b24f765a3b8"
   },
   "outputs": [
    {
     "data": {
      "text/plain": [
       "78566.0307874482"
      ]
     },
     "execution_count": 57,
     "metadata": {},
     "output_type": "execute_result"
    }
   ],
   "source": [
    "#First find the average value of the target\n",
    "\n",
    "mean_value = np.mean(y_train['Salary'])\n",
    "\n",
    "mean_value"
   ]
  },
  {
   "cell_type": "code",
   "execution_count": 58,
   "metadata": {
    "colab": {
     "base_uri": "https://localhost:8080/"
    },
    "id": "tpBtBIfazNMX",
    "outputId": "9c258a45-85e1-4a50-a630-75750fe09fd8"
   },
   "outputs": [
    {
     "data": {
      "text/plain": [
       "array([78566.03078745, 78566.03078745, 78566.03078745, 78566.03078745,\n",
       "       78566.03078745, 78566.03078745, 78566.03078745, 78566.03078745,\n",
       "       78566.03078745, 78566.03078745, 78566.03078745, 78566.03078745,\n",
       "       78566.03078745, 78566.03078745, 78566.03078745, 78566.03078745,\n",
       "       78566.03078745, 78566.03078745, 78566.03078745, 78566.03078745,\n",
       "       78566.03078745, 78566.03078745, 78566.03078745, 78566.03078745,\n",
       "       78566.03078745, 78566.03078745, 78566.03078745, 78566.03078745,\n",
       "       78566.03078745, 78566.03078745, 78566.03078745, 78566.03078745,\n",
       "       78566.03078745, 78566.03078745, 78566.03078745, 78566.03078745,\n",
       "       78566.03078745, 78566.03078745, 78566.03078745, 78566.03078745,\n",
       "       78566.03078745, 78566.03078745, 78566.03078745, 78566.03078745,\n",
       "       78566.03078745, 78566.03078745, 78566.03078745, 78566.03078745,\n",
       "       78566.03078745, 78566.03078745, 78566.03078745, 78566.03078745,\n",
       "       78566.03078745, 78566.03078745, 78566.03078745, 78566.03078745,\n",
       "       78566.03078745, 78566.03078745, 78566.03078745, 78566.03078745,\n",
       "       78566.03078745, 78566.03078745, 78566.03078745, 78566.03078745,\n",
       "       78566.03078745, 78566.03078745, 78566.03078745, 78566.03078745,\n",
       "       78566.03078745, 78566.03078745, 78566.03078745, 78566.03078745,\n",
       "       78566.03078745, 78566.03078745, 78566.03078745, 78566.03078745,\n",
       "       78566.03078745, 78566.03078745, 78566.03078745, 78566.03078745,\n",
       "       78566.03078745, 78566.03078745, 78566.03078745, 78566.03078745,\n",
       "       78566.03078745, 78566.03078745, 78566.03078745, 78566.03078745,\n",
       "       78566.03078745, 78566.03078745, 78566.03078745, 78566.03078745,\n",
       "       78566.03078745, 78566.03078745, 78566.03078745, 78566.03078745,\n",
       "       78566.03078745, 78566.03078745, 78566.03078745, 78566.03078745,\n",
       "       78566.03078745, 78566.03078745, 78566.03078745, 78566.03078745,\n",
       "       78566.03078745, 78566.03078745, 78566.03078745, 78566.03078745,\n",
       "       78566.03078745, 78566.03078745, 78566.03078745, 78566.03078745,\n",
       "       78566.03078745, 78566.03078745, 78566.03078745, 78566.03078745,\n",
       "       78566.03078745, 78566.03078745, 78566.03078745, 78566.03078745,\n",
       "       78566.03078745, 78566.03078745, 78566.03078745, 78566.03078745,\n",
       "       78566.03078745, 78566.03078745, 78566.03078745, 78566.03078745,\n",
       "       78566.03078745, 78566.03078745, 78566.03078745, 78566.03078745,\n",
       "       78566.03078745, 78566.03078745, 78566.03078745, 78566.03078745,\n",
       "       78566.03078745, 78566.03078745, 78566.03078745, 78566.03078745,\n",
       "       78566.03078745, 78566.03078745, 78566.03078745, 78566.03078745,\n",
       "       78566.03078745, 78566.03078745, 78566.03078745, 78566.03078745,\n",
       "       78566.03078745, 78566.03078745, 78566.03078745, 78566.03078745,\n",
       "       78566.03078745, 78566.03078745, 78566.03078745, 78566.03078745,\n",
       "       78566.03078745, 78566.03078745, 78566.03078745, 78566.03078745,\n",
       "       78566.03078745, 78566.03078745, 78566.03078745, 78566.03078745,\n",
       "       78566.03078745, 78566.03078745, 78566.03078745, 78566.03078745,\n",
       "       78566.03078745, 78566.03078745, 78566.03078745, 78566.03078745,\n",
       "       78566.03078745, 78566.03078745, 78566.03078745, 78566.03078745,\n",
       "       78566.03078745, 78566.03078745, 78566.03078745, 78566.03078745,\n",
       "       78566.03078745, 78566.03078745, 78566.03078745, 78566.03078745,\n",
       "       78566.03078745, 78566.03078745, 78566.03078745, 78566.03078745,\n",
       "       78566.03078745, 78566.03078745, 78566.03078745, 78566.03078745,\n",
       "       78566.03078745, 78566.03078745, 78566.03078745, 78566.03078745,\n",
       "       78566.03078745, 78566.03078745, 78566.03078745, 78566.03078745,\n",
       "       78566.03078745, 78566.03078745, 78566.03078745, 78566.03078745,\n",
       "       78566.03078745, 78566.03078745, 78566.03078745, 78566.03078745,\n",
       "       78566.03078745, 78566.03078745, 78566.03078745, 78566.03078745,\n",
       "       78566.03078745, 78566.03078745, 78566.03078745, 78566.03078745,\n",
       "       78566.03078745, 78566.03078745, 78566.03078745, 78566.03078745,\n",
       "       78566.03078745, 78566.03078745, 78566.03078745, 78566.03078745,\n",
       "       78566.03078745, 78566.03078745, 78566.03078745, 78566.03078745,\n",
       "       78566.03078745, 78566.03078745, 78566.03078745, 78566.03078745,\n",
       "       78566.03078745, 78566.03078745, 78566.03078745, 78566.03078745,\n",
       "       78566.03078745, 78566.03078745, 78566.03078745, 78566.03078745,\n",
       "       78566.03078745, 78566.03078745, 78566.03078745, 78566.03078745,\n",
       "       78566.03078745, 78566.03078745, 78566.03078745, 78566.03078745,\n",
       "       78566.03078745, 78566.03078745, 78566.03078745, 78566.03078745,\n",
       "       78566.03078745, 78566.03078745, 78566.03078745, 78566.03078745,\n",
       "       78566.03078745, 78566.03078745, 78566.03078745, 78566.03078745,\n",
       "       78566.03078745, 78566.03078745, 78566.03078745, 78566.03078745,\n",
       "       78566.03078745, 78566.03078745, 78566.03078745, 78566.03078745,\n",
       "       78566.03078745, 78566.03078745, 78566.03078745, 78566.03078745,\n",
       "       78566.03078745, 78566.03078745, 78566.03078745, 78566.03078745,\n",
       "       78566.03078745, 78566.03078745, 78566.03078745, 78566.03078745,\n",
       "       78566.03078745, 78566.03078745, 78566.03078745, 78566.03078745,\n",
       "       78566.03078745, 78566.03078745, 78566.03078745, 78566.03078745,\n",
       "       78566.03078745, 78566.03078745, 78566.03078745, 78566.03078745,\n",
       "       78566.03078745, 78566.03078745, 78566.03078745, 78566.03078745,\n",
       "       78566.03078745, 78566.03078745, 78566.03078745, 78566.03078745,\n",
       "       78566.03078745, 78566.03078745, 78566.03078745, 78566.03078745,\n",
       "       78566.03078745, 78566.03078745, 78566.03078745, 78566.03078745,\n",
       "       78566.03078745, 78566.03078745, 78566.03078745, 78566.03078745,\n",
       "       78566.03078745, 78566.03078745, 78566.03078745, 78566.03078745,\n",
       "       78566.03078745, 78566.03078745, 78566.03078745, 78566.03078745,\n",
       "       78566.03078745, 78566.03078745, 78566.03078745, 78566.03078745,\n",
       "       78566.03078745, 78566.03078745, 78566.03078745, 78566.03078745,\n",
       "       78566.03078745, 78566.03078745, 78566.03078745, 78566.03078745,\n",
       "       78566.03078745, 78566.03078745, 78566.03078745, 78566.03078745,\n",
       "       78566.03078745, 78566.03078745, 78566.03078745, 78566.03078745,\n",
       "       78566.03078745, 78566.03078745, 78566.03078745, 78566.03078745,\n",
       "       78566.03078745, 78566.03078745, 78566.03078745, 78566.03078745,\n",
       "       78566.03078745, 78566.03078745, 78566.03078745, 78566.03078745,\n",
       "       78566.03078745, 78566.03078745, 78566.03078745, 78566.03078745,\n",
       "       78566.03078745, 78566.03078745, 78566.03078745, 78566.03078745,\n",
       "       78566.03078745, 78566.03078745, 78566.03078745, 78566.03078745,\n",
       "       78566.03078745, 78566.03078745, 78566.03078745, 78566.03078745,\n",
       "       78566.03078745, 78566.03078745, 78566.03078745, 78566.03078745,\n",
       "       78566.03078745, 78566.03078745, 78566.03078745, 78566.03078745,\n",
       "       78566.03078745, 78566.03078745, 78566.03078745, 78566.03078745,\n",
       "       78566.03078745, 78566.03078745, 78566.03078745, 78566.03078745,\n",
       "       78566.03078745, 78566.03078745, 78566.03078745, 78566.03078745,\n",
       "       78566.03078745, 78566.03078745, 78566.03078745, 78566.03078745,\n",
       "       78566.03078745, 78566.03078745, 78566.03078745, 78566.03078745,\n",
       "       78566.03078745, 78566.03078745, 78566.03078745, 78566.03078745,\n",
       "       78566.03078745, 78566.03078745, 78566.03078745, 78566.03078745,\n",
       "       78566.03078745, 78566.03078745, 78566.03078745, 78566.03078745,\n",
       "       78566.03078745, 78566.03078745, 78566.03078745, 78566.03078745,\n",
       "       78566.03078745, 78566.03078745, 78566.03078745, 78566.03078745,\n",
       "       78566.03078745, 78566.03078745, 78566.03078745, 78566.03078745,\n",
       "       78566.03078745, 78566.03078745, 78566.03078745, 78566.03078745,\n",
       "       78566.03078745, 78566.03078745, 78566.03078745, 78566.03078745,\n",
       "       78566.03078745, 78566.03078745, 78566.03078745, 78566.03078745,\n",
       "       78566.03078745, 78566.03078745, 78566.03078745, 78566.03078745,\n",
       "       78566.03078745, 78566.03078745, 78566.03078745, 78566.03078745,\n",
       "       78566.03078745, 78566.03078745, 78566.03078745, 78566.03078745,\n",
       "       78566.03078745, 78566.03078745, 78566.03078745, 78566.03078745,\n",
       "       78566.03078745, 78566.03078745, 78566.03078745, 78566.03078745,\n",
       "       78566.03078745, 78566.03078745, 78566.03078745, 78566.03078745,\n",
       "       78566.03078745, 78566.03078745, 78566.03078745, 78566.03078745,\n",
       "       78566.03078745, 78566.03078745, 78566.03078745, 78566.03078745,\n",
       "       78566.03078745, 78566.03078745, 78566.03078745, 78566.03078745,\n",
       "       78566.03078745, 78566.03078745, 78566.03078745, 78566.03078745,\n",
       "       78566.03078745, 78566.03078745, 78566.03078745, 78566.03078745,\n",
       "       78566.03078745, 78566.03078745, 78566.03078745, 78566.03078745,\n",
       "       78566.03078745, 78566.03078745, 78566.03078745, 78566.03078745,\n",
       "       78566.03078745, 78566.03078745, 78566.03078745, 78566.03078745,\n",
       "       78566.03078745, 78566.03078745, 78566.03078745, 78566.03078745,\n",
       "       78566.03078745, 78566.03078745, 78566.03078745, 78566.03078745,\n",
       "       78566.03078745, 78566.03078745, 78566.03078745, 78566.03078745,\n",
       "       78566.03078745, 78566.03078745, 78566.03078745, 78566.03078745,\n",
       "       78566.03078745, 78566.03078745, 78566.03078745, 78566.03078745,\n",
       "       78566.03078745, 78566.03078745, 78566.03078745, 78566.03078745,\n",
       "       78566.03078745, 78566.03078745, 78566.03078745, 78566.03078745,\n",
       "       78566.03078745, 78566.03078745, 78566.03078745, 78566.03078745,\n",
       "       78566.03078745, 78566.03078745, 78566.03078745, 78566.03078745,\n",
       "       78566.03078745, 78566.03078745, 78566.03078745, 78566.03078745,\n",
       "       78566.03078745, 78566.03078745, 78566.03078745, 78566.03078745,\n",
       "       78566.03078745, 78566.03078745, 78566.03078745, 78566.03078745,\n",
       "       78566.03078745, 78566.03078745, 78566.03078745, 78566.03078745,\n",
       "       78566.03078745, 78566.03078745, 78566.03078745, 78566.03078745,\n",
       "       78566.03078745, 78566.03078745, 78566.03078745, 78566.03078745,\n",
       "       78566.03078745, 78566.03078745, 78566.03078745, 78566.03078745,\n",
       "       78566.03078745, 78566.03078745, 78566.03078745, 78566.03078745,\n",
       "       78566.03078745, 78566.03078745, 78566.03078745, 78566.03078745,\n",
       "       78566.03078745, 78566.03078745, 78566.03078745, 78566.03078745,\n",
       "       78566.03078745, 78566.03078745, 78566.03078745, 78566.03078745,\n",
       "       78566.03078745, 78566.03078745, 78566.03078745, 78566.03078745,\n",
       "       78566.03078745, 78566.03078745, 78566.03078745, 78566.03078745,\n",
       "       78566.03078745, 78566.03078745, 78566.03078745, 78566.03078745,\n",
       "       78566.03078745, 78566.03078745, 78566.03078745, 78566.03078745,\n",
       "       78566.03078745, 78566.03078745, 78566.03078745, 78566.03078745,\n",
       "       78566.03078745, 78566.03078745, 78566.03078745, 78566.03078745,\n",
       "       78566.03078745, 78566.03078745, 78566.03078745, 78566.03078745,\n",
       "       78566.03078745, 78566.03078745, 78566.03078745, 78566.03078745,\n",
       "       78566.03078745, 78566.03078745, 78566.03078745, 78566.03078745,\n",
       "       78566.03078745, 78566.03078745, 78566.03078745, 78566.03078745,\n",
       "       78566.03078745, 78566.03078745, 78566.03078745, 78566.03078745,\n",
       "       78566.03078745, 78566.03078745, 78566.03078745, 78566.03078745,\n",
       "       78566.03078745, 78566.03078745, 78566.03078745, 78566.03078745,\n",
       "       78566.03078745, 78566.03078745, 78566.03078745, 78566.03078745,\n",
       "       78566.03078745, 78566.03078745, 78566.03078745, 78566.03078745,\n",
       "       78566.03078745, 78566.03078745, 78566.03078745, 78566.03078745,\n",
       "       78566.03078745, 78566.03078745, 78566.03078745, 78566.03078745,\n",
       "       78566.03078745, 78566.03078745, 78566.03078745, 78566.03078745,\n",
       "       78566.03078745, 78566.03078745, 78566.03078745, 78566.03078745,\n",
       "       78566.03078745, 78566.03078745, 78566.03078745, 78566.03078745,\n",
       "       78566.03078745, 78566.03078745, 78566.03078745, 78566.03078745,\n",
       "       78566.03078745, 78566.03078745, 78566.03078745, 78566.03078745,\n",
       "       78566.03078745, 78566.03078745, 78566.03078745, 78566.03078745,\n",
       "       78566.03078745, 78566.03078745, 78566.03078745, 78566.03078745,\n",
       "       78566.03078745, 78566.03078745, 78566.03078745, 78566.03078745,\n",
       "       78566.03078745, 78566.03078745, 78566.03078745, 78566.03078745,\n",
       "       78566.03078745, 78566.03078745, 78566.03078745, 78566.03078745,\n",
       "       78566.03078745, 78566.03078745, 78566.03078745, 78566.03078745,\n",
       "       78566.03078745, 78566.03078745, 78566.03078745, 78566.03078745,\n",
       "       78566.03078745, 78566.03078745, 78566.03078745, 78566.03078745,\n",
       "       78566.03078745, 78566.03078745, 78566.03078745, 78566.03078745,\n",
       "       78566.03078745, 78566.03078745, 78566.03078745, 78566.03078745,\n",
       "       78566.03078745, 78566.03078745, 78566.03078745, 78566.03078745,\n",
       "       78566.03078745, 78566.03078745, 78566.03078745, 78566.03078745,\n",
       "       78566.03078745, 78566.03078745, 78566.03078745, 78566.03078745,\n",
       "       78566.03078745, 78566.03078745, 78566.03078745, 78566.03078745,\n",
       "       78566.03078745, 78566.03078745, 78566.03078745, 78566.03078745,\n",
       "       78566.03078745, 78566.03078745, 78566.03078745, 78566.03078745,\n",
       "       78566.03078745, 78566.03078745, 78566.03078745, 78566.03078745])"
      ]
     },
     "execution_count": 58,
     "metadata": {},
     "output_type": "execute_result"
    }
   ],
   "source": [
    "# Predict all values as the mean\n",
    "\n",
    "pred_baseline = np.repeat(mean_value, len(y_test))\n",
    "\n",
    "pred_baseline"
   ]
  },
  {
   "cell_type": "code",
   "execution_count": 59,
   "metadata": {
    "colab": {
     "base_uri": "https://localhost:8080/"
    },
    "id": "cgF1KPJjzNMX",
    "outputId": "2df79f25-fcb0-457e-981f-a7f974b18820"
   },
   "outputs": [
    {
     "name": "stdout",
     "output_type": "stream",
     "text": [
      "Baseline RMSE: 28294.892856870818\n"
     ]
    }
   ],
   "source": [
    "baseline_mse = mean_squared_error(y_test, pred_baseline)\n",
    "\n",
    "baseline_rmse = np.sqrt(baseline_mse)\n",
    "\n",
    "print('Baseline RMSE: {}' .format(baseline_rmse))"
   ]
  },
  {
   "cell_type": "code",
   "execution_count": 60,
   "metadata": {
    "colab": {
     "base_uri": "https://localhost:8080/"
    },
    "id": "geUjgEsvzNMY",
    "outputId": "d4441a9d-79f1-4c15-f605-0aba53a5372d"
   },
   "outputs": [
    {
     "data": {
      "text/plain": [
       "429      63407\n",
       "1185    111372\n",
       "2116     79054\n",
       "2127     67864\n",
       "458      88695\n",
       "         ...  \n",
       "1638     44366\n",
       "1095     52753\n",
       "1130     78345\n",
       "1294     87196\n",
       "860      74647\n",
       "Name: Salary, Length: 1689, dtype: int64"
      ]
     },
     "execution_count": 60,
     "metadata": {},
     "output_type": "execute_result"
    }
   ],
   "source": [
    "y_train['Salary']"
   ]
  },
  {
   "cell_type": "markdown",
   "metadata": {
    "id": "-gr8bDc3zNMY"
   },
   "source": [
    "# Section 2: (7 points in total)\n",
    "\n",
    "Build the following models:\n"
   ]
  },
  {
   "cell_type": "markdown",
   "metadata": {
    "id": "xOn9Y6kxzNMY"
   },
   "source": [
    "## Decision Tree: (1 point)"
   ]
  },
  {
   "cell_type": "code",
   "execution_count": 62,
   "metadata": {
    "colab": {
     "base_uri": "https://localhost:8080/"
    },
    "id": "q_FvJevxT_8Y",
    "outputId": "639154bf-946f-4992-f8bb-a396167cf85c"
   },
   "outputs": [
    {
     "data": {
      "text/plain": [
       "DecisionTreeRegressor(max_depth=10, min_samples_leaf=5)"
      ]
     },
     "execution_count": 62,
     "metadata": {},
     "output_type": "execute_result"
    }
   ],
   "source": [
    "# using different parameters \n",
    "from sklearn.tree import DecisionTreeRegressor\n",
    "\n",
    "dt_reg2 = DecisionTreeRegressor(max_depth=10, min_samples_leaf = 5) \n",
    "\n",
    "dt_reg2.fit(combined_train_df, y_train)"
   ]
  },
  {
   "cell_type": "code",
   "execution_count": 63,
   "metadata": {
    "colab": {
     "base_uri": "https://localhost:8080/"
    },
    "id": "fjL4ik17T_8Y",
    "outputId": "ea487543-ce69-4551-a7f8-ffc4c2040a8d"
   },
   "outputs": [
    {
     "name": "stdout",
     "output_type": "stream",
     "text": [
      "Train Model RMSE: 15653.742155641086\n"
     ]
    }
   ],
   "source": [
    "# Find RMSE value for train data \n",
    "\n",
    "pred_train = dt_reg2.predict(combined_train_df)\n",
    "\n",
    "train_mse = mean_squared_error(y_train, pred_train)\n",
    "\n",
    "train_rmse = np.sqrt(train_mse)\n",
    "\n",
    "print('Train Model RMSE: {}' .format(train_rmse))"
   ]
  },
  {
   "cell_type": "code",
   "execution_count": 64,
   "metadata": {
    "colab": {
     "base_uri": "https://localhost:8080/"
    },
    "id": "O46YLzcCT_8Z",
    "outputId": "827e2d56-e0e7-4cf9-90ab-f6bf148ea0f0"
   },
   "outputs": [
    {
     "name": "stdout",
     "output_type": "stream",
     "text": [
      "Test Model RMSE: 23182.660898585982\n"
     ]
    }
   ],
   "source": [
    "#Find RMSE value for test data\n",
    "\n",
    "pred_test = dt_reg2.predict(combined_test_df)\n",
    "\n",
    "test_mse = mean_squared_error(y_test, pred_test)\n",
    "\n",
    "test_rmse = np.sqrt(test_mse)\n",
    "\n",
    "print('Test Model RMSE: {}' .format(test_rmse))"
   ]
  },
  {
   "cell_type": "code",
   "execution_count": 65,
   "metadata": {
    "id": "SI9jKkgVhaLu"
   },
   "outputs": [
    {
     "data": {
      "text/plain": [
       "DecisionTreeRegressor(min_samples_leaf=10)"
      ]
     },
     "execution_count": 65,
     "metadata": {},
     "output_type": "execute_result"
    }
   ],
   "source": [
    "# Train model \n",
    "\n",
    "from sklearn.tree import DecisionTreeRegressor\n",
    "\n",
    "dt_reg = DecisionTreeRegressor(min_samples_leaf = 10) \n",
    "\n",
    "dt_reg.fit(combined_train_df, y_train)"
   ]
  },
  {
   "cell_type": "code",
   "execution_count": 66,
   "metadata": {
    "id": "E1HNfYk3haYs"
   },
   "outputs": [
    {
     "name": "stdout",
     "output_type": "stream",
     "text": [
      "Train Model RMSE: 16229.408750946544\n"
     ]
    }
   ],
   "source": [
    "# Find RMSE value for train data \n",
    "\n",
    "pred_train = dt_reg.predict(combined_train_df)\n",
    "\n",
    "train_mse = mean_squared_error(y_train, pred_train)\n",
    "\n",
    "train_rmse = np.sqrt(train_mse)\n",
    "\n",
    "print('Train Model RMSE: {}' .format(train_rmse))"
   ]
  },
  {
   "cell_type": "code",
   "execution_count": 67,
   "metadata": {
    "id": "jPilhIvehae8"
   },
   "outputs": [
    {
     "name": "stdout",
     "output_type": "stream",
     "text": [
      "Test Model RMSE: 22710.81472817472\n"
     ]
    }
   ],
   "source": [
    "#Find RMSE value for test data\n",
    "\n",
    "pred_test = dt_reg.predict(combined_test_df)\n",
    "\n",
    "test_mse = mean_squared_error(y_test, pred_test)\n",
    "\n",
    "test_rmse = np.sqrt(test_mse)\n",
    "\n",
    "print('Test Model RMSE: {}' .format(test_rmse))"
   ]
  },
  {
   "cell_type": "markdown",
   "metadata": {
    "id": "1p-hlD-fzNMZ"
   },
   "source": [
    "## Voting regressor (2 points):\n",
    "\n",
    "The voting regressor should have at least 3 individual models"
   ]
  },
  {
   "cell_type": "code",
   "execution_count": 68,
   "metadata": {
    "colab": {
     "base_uri": "https://localhost:8080/"
    },
    "id": "fdr7DUVezNMZ",
    "outputId": "717d2b24-8d5b-4f25-f1c8-7c8445ac71e1"
   },
   "outputs": [
    {
     "name": "stderr",
     "output_type": "stream",
     "text": [
      "C:\\Users\\Vatsal\\anaconda3\\lib\\site-packages\\sklearn\\utils\\validation.py:63: DataConversionWarning: A column-vector y was passed when a 1d array was expected. Please change the shape of y to (n_samples, ), for example using ravel().\n",
      "  return f(*args, **kwargs)\n"
     ]
    },
    {
     "data": {
      "text/plain": [
       "VotingRegressor(estimators=[('dt', DecisionTreeRegressor(max_depth=20)),\n",
       "                            ('svr', SVR(C=10, epsilon=0.01)),\n",
       "                            ('sgd', SGDRegressor(max_iter=10000))])"
      ]
     },
     "execution_count": 68,
     "metadata": {},
     "output_type": "execute_result"
    }
   ],
   "source": [
    "# Using DecisionTreeRegressor, Support Vector Regressor, Stochastic Gradient Descent\n",
    "\n",
    "from sklearn.tree import DecisionTreeRegressor\n",
    "from sklearn.linear_model import SGDRegressor \n",
    "from sklearn.svm import SVR \n",
    "from sklearn.ensemble import VotingRegressor\n",
    "\n",
    "\n",
    "dt_reg = DecisionTreeRegressor(max_depth=20)\n",
    "svm_reg = SVR(kernel=\"rbf\", C=10, epsilon=0.01, gamma='scale') \n",
    "sgd_reg = SGDRegressor(max_iter=10000, tol=1e-3)\n",
    "\n",
    "voting_reg = VotingRegressor(\n",
    "            estimators=[('dt', dt_reg), \n",
    "                        ('svr', svm_reg), \n",
    "                        ('sgd', sgd_reg)])\n",
    "\n",
    "voting_reg.fit(combined_train_df, y_train)"
   ]
  },
  {
   "cell_type": "code",
   "execution_count": 69,
   "metadata": {
    "colab": {
     "base_uri": "https://localhost:8080/"
    },
    "id": "bqSUXy2KzNMZ",
    "outputId": "27cd348b-f54f-4dd2-db7a-20f8b4eb295f"
   },
   "outputs": [
    {
     "name": "stdout",
     "output_type": "stream",
     "text": [
      "Train Model RMSE: 15341.882638426034\n"
     ]
    }
   ],
   "source": [
    "# Find RMSE value for train data \n",
    "\n",
    "pred_train = voting_reg.predict(combined_train_df)\n",
    "\n",
    "train_mse = mean_squared_error(y_train, pred_train)\n",
    "\n",
    "train_rmse = np.sqrt(train_mse)\n",
    "\n",
    "print('Train Model RMSE: {}' .format(train_rmse))"
   ]
  },
  {
   "cell_type": "code",
   "execution_count": 70,
   "metadata": {
    "colab": {
     "base_uri": "https://localhost:8080/"
    },
    "id": "h3L2cUe-T_8Z",
    "outputId": "5aeffdde-b0d3-4a8d-aefa-3dfeaff2db01"
   },
   "outputs": [
    {
     "name": "stdout",
     "output_type": "stream",
     "text": [
      "Test RMSE: 18735.00583535874\n"
     ]
    }
   ],
   "source": [
    "pred_test = voting_reg.predict(combined_test_df)\n",
    "\n",
    "test_mse = mean_squared_error(y_test, pred_test)\n",
    "\n",
    "test_rmse = np.sqrt(test_mse)\n",
    "\n",
    "print('Test RMSE: {}' .format(test_rmse))"
   ]
  },
  {
   "cell_type": "code",
   "execution_count": 71,
   "metadata": {
    "colab": {
     "base_uri": "https://localhost:8080/"
    },
    "id": "TSHi75w2zNMZ",
    "outputId": "15c9376c-ef1b-42f4-86d6-2134d3090524"
   },
   "outputs": [
    {
     "name": "stderr",
     "output_type": "stream",
     "text": [
      "C:\\Users\\Vatsal\\anaconda3\\lib\\site-packages\\sklearn\\utils\\validation.py:63: DataConversionWarning: A column-vector y was passed when a 1d array was expected. Please change the shape of y to (n_samples, ), for example using ravel().\n",
      "  return f(*args, **kwargs)\n"
     ]
    },
    {
     "data": {
      "text/plain": [
       "VotingRegressor(estimators=[('dt', DecisionTreeRegressor(max_depth=20)),\n",
       "                            ('sgd', SGDRegressor(max_iter=10000)),\n",
       "                            ('rf',\n",
       "                             RandomForestRegressor(n_estimators=10,\n",
       "                                                   random_state=1))])"
      ]
     },
     "execution_count": 71,
     "metadata": {},
     "output_type": "execute_result"
    }
   ],
   "source": [
    "# Using DecisionTreeRegressor, Stochastic Gradient Descent, Random Forest Regressor \n",
    "\n",
    "from sklearn.tree import DecisionTreeRegressor\n",
    "from sklearn.linear_model import SGDRegressor \n",
    "from sklearn.ensemble import RandomForestRegressor\n",
    "from sklearn.ensemble import VotingRegressor\n",
    "\n",
    "\n",
    "dt_reg = DecisionTreeRegressor(max_depth=20)\n",
    "sgd_reg = SGDRegressor(max_iter=10000, tol=1e-3)\n",
    "rf_reg = RandomForestRegressor(n_estimators=10, random_state=1)\n",
    "\n",
    "voting_reg = VotingRegressor(\n",
    "            estimators=[('dt', dt_reg), \n",
    "                        ('sgd', sgd_reg), \n",
    "                        ('rf', rf_reg)])\n",
    "\n",
    "voting_reg.fit(combined_train_df, y_train)"
   ]
  },
  {
   "cell_type": "code",
   "execution_count": 72,
   "metadata": {
    "colab": {
     "base_uri": "https://localhost:8080/"
    },
    "id": "f2mx9EbEzNMZ",
    "outputId": "d24c5304-464c-42f2-e2a2-3103c782495a"
   },
   "outputs": [
    {
     "name": "stdout",
     "output_type": "stream",
     "text": [
      "Train Model RMSE: 8550.779947432175\n"
     ]
    }
   ],
   "source": [
    "# Find RMSE value for train data \n",
    "\n",
    "pred_train = voting_reg.predict(combined_train_df)\n",
    "\n",
    "train_mse = mean_squared_error(y_train, pred_train)\n",
    "\n",
    "train_rmse = np.sqrt(train_mse)\n",
    "\n",
    "print('Train Model RMSE: {}' .format(train_rmse))"
   ]
  },
  {
   "cell_type": "code",
   "execution_count": 73,
   "metadata": {
    "colab": {
     "base_uri": "https://localhost:8080/"
    },
    "id": "yzgq86IgT_8a",
    "outputId": "40578caa-a16e-4932-f4bb-46db2a159934"
   },
   "outputs": [
    {
     "name": "stdout",
     "output_type": "stream",
     "text": [
      "Test RMSE: 16073.240717634795\n"
     ]
    }
   ],
   "source": [
    "pred_test = voting_reg.predict(combined_test_df)\n",
    "\n",
    "test_mse = mean_squared_error(y_test, pred_test)\n",
    "\n",
    "test_rmse = np.sqrt(test_mse)\n",
    "\n",
    "print('Test RMSE: {}' .format(test_rmse))"
   ]
  },
  {
   "cell_type": "markdown",
   "metadata": {
    "id": "OqREdwiRzNMZ"
   },
   "source": [
    "**Lower the RMSE better is Model performance**"
   ]
  },
  {
   "cell_type": "code",
   "execution_count": 74,
   "metadata": {
    "colab": {
     "base_uri": "https://localhost:8080/"
    },
    "id": "_NJIY_EDzNMa",
    "outputId": "769375c4-403b-43d9-ba36-e1acc23363ca"
   },
   "outputs": [
    {
     "name": "stderr",
     "output_type": "stream",
     "text": [
      "C:\\Users\\Vatsal\\anaconda3\\lib\\site-packages\\sklearn\\utils\\validation.py:63: DataConversionWarning: A column-vector y was passed when a 1d array was expected. Please change the shape of y to (n_samples, ), for example using ravel().\n",
      "  return f(*args, **kwargs)\n"
     ]
    },
    {
     "data": {
      "text/plain": [
       "VotingRegressor(estimators=[('dt', DecisionTreeRegressor(max_depth=20)),\n",
       "                            ('rf',\n",
       "                             RandomForestRegressor(n_estimators=10,\n",
       "                                                   random_state=1)),\n",
       "                            ('sgd', SGDRegressor(max_iter=10000))],\n",
       "                weights=[0.6, 0.2, 0.2])"
      ]
     },
     "execution_count": 74,
     "metadata": {},
     "output_type": "execute_result"
    }
   ],
   "source": [
    "# Voting Regressor with weights parameter \n",
    "\n",
    "from sklearn.tree import DecisionTreeRegressor\n",
    "from sklearn.linear_model import SGDRegressor \n",
    "from sklearn.ensemble import RandomForestRegressor\n",
    "from sklearn.ensemble import VotingRegressor\n",
    "\n",
    "\n",
    "dt_reg = DecisionTreeRegressor(max_depth=20)\n",
    "sgd_reg = SGDRegressor(max_iter=10000, tol=1e-3)\n",
    "rf_reg = RandomForestRegressor(n_estimators=10, random_state=1)\n",
    "\n",
    "voting_reg = VotingRegressor(\n",
    "            estimators=[('dt', dt_reg), ('rf', rf_reg), ('sgd', sgd_reg)],\n",
    "                        weights=[0.6, 0.2, 0.2])\n",
    "\n",
    "voting_reg.fit(combined_train_df, y_train)"
   ]
  },
  {
   "cell_type": "code",
   "execution_count": 75,
   "metadata": {
    "colab": {
     "base_uri": "https://localhost:8080/"
    },
    "id": "CKG8giBuzNMa",
    "outputId": "658d00d7-a88b-4eab-9436-733503450fb2"
   },
   "outputs": [
    {
     "name": "stdout",
     "output_type": "stream",
     "text": [
      "Train Model RMSE: 6371.4863182621875\n"
     ]
    }
   ],
   "source": [
    "# Find RMSE value for train data \n",
    "\n",
    "pred_train = voting_reg.predict(combined_train_df)\n",
    "\n",
    "train_mse = mean_squared_error(y_train, pred_train)\n",
    "\n",
    "train_rmse = np.sqrt(train_mse)\n",
    "\n",
    "print('Train Model RMSE: {}' .format(train_rmse))"
   ]
  },
  {
   "cell_type": "code",
   "execution_count": 76,
   "metadata": {
    "colab": {
     "base_uri": "https://localhost:8080/"
    },
    "id": "OVe1awIwzNMa",
    "outputId": "91393e61-a223-435d-c058-74bdcad452ab"
   },
   "outputs": [
    {
     "name": "stdout",
     "output_type": "stream",
     "text": [
      "Test RMSE: 17015.053388172364\n"
     ]
    }
   ],
   "source": [
    "# Find RMSE value for test data \n",
    "\n",
    "pred_test = voting_reg.predict(combined_test_df)\n",
    "\n",
    "test_mse = mean_squared_error(y_test, pred_test)\n",
    "\n",
    "test_rmse = np.sqrt(test_mse)\n",
    "\n",
    "print('Test RMSE: {}' .format(test_rmse))"
   ]
  },
  {
   "cell_type": "code",
   "execution_count": 77,
   "metadata": {
    "colab": {
     "base_uri": "https://localhost:8080/"
    },
    "id": "CMM1pUfLYJMT",
    "outputId": "6fab0f10-b57c-43c3-87cf-1f269afc9aa1"
   },
   "outputs": [
    {
     "name": "stderr",
     "output_type": "stream",
     "text": [
      "C:\\Users\\Vatsal\\anaconda3\\lib\\site-packages\\sklearn\\utils\\validation.py:63: DataConversionWarning: A column-vector y was passed when a 1d array was expected. Please change the shape of y to (n_samples, ), for example using ravel().\n",
      "  return f(*args, **kwargs)\n"
     ]
    },
    {
     "data": {
      "text/plain": [
       "VotingRegressor(estimators=[('dt', DecisionTreeRegressor(max_depth=20)),\n",
       "                            ('rf',\n",
       "                             RandomForestRegressor(n_estimators=10,\n",
       "                                                   random_state=1)),\n",
       "                            ('sgd', SGDRegressor(max_iter=10000))],\n",
       "                weights=[0.4, 0.4, 0.2])"
      ]
     },
     "execution_count": 77,
     "metadata": {},
     "output_type": "execute_result"
    }
   ],
   "source": [
    "# with different weights for different algorithms \n",
    "\n",
    "from sklearn.tree import DecisionTreeRegressor\n",
    "from sklearn.linear_model import SGDRegressor \n",
    "from sklearn.ensemble import RandomForestRegressor\n",
    "from sklearn.ensemble import VotingRegressor\n",
    "\n",
    "\n",
    "dt_reg = DecisionTreeRegressor(max_depth=20)\n",
    "sgd_reg = SGDRegressor(max_iter=10000, tol=1e-3)\n",
    "rf_reg = RandomForestRegressor(n_estimators=10, random_state=1)\n",
    "\n",
    "voting_reg = VotingRegressor(\n",
    "            estimators=[('dt', dt_reg), ('rf', rf_reg), ('sgd', sgd_reg)],\n",
    "                        weights=[0.4, 0.4, 0.2])\n",
    "\n",
    "voting_reg.fit(combined_train_df, y_train)"
   ]
  },
  {
   "cell_type": "code",
   "execution_count": 78,
   "metadata": {
    "colab": {
     "base_uri": "https://localhost:8080/"
    },
    "id": "JesBlXH-YJPv",
    "outputId": "a385e2f0-e3ef-4ac5-d49e-005d32c2d88f"
   },
   "outputs": [
    {
     "name": "stdout",
     "output_type": "stream",
     "text": [
      "Train Model RMSE: 7040.790963604296\n"
     ]
    }
   ],
   "source": [
    "# Find RMSE value for train data \n",
    "\n",
    "pred_train = voting_reg.predict(combined_train_df)\n",
    "\n",
    "train_mse = mean_squared_error(y_train, pred_train)\n",
    "\n",
    "train_rmse = np.sqrt(train_mse)\n",
    "\n",
    "print('Train Model RMSE: {}' .format(train_rmse))"
   ]
  },
  {
   "cell_type": "code",
   "execution_count": 79,
   "metadata": {
    "colab": {
     "base_uri": "https://localhost:8080/"
    },
    "id": "lwMqxuBUYJhC",
    "outputId": "da8dc059-b2ba-4246-e9cf-92272cbe08fe"
   },
   "outputs": [
    {
     "name": "stdout",
     "output_type": "stream",
     "text": [
      "Test RMSE: 15636.342315300137\n"
     ]
    }
   ],
   "source": [
    "# Find RMSE value for test data \n",
    "\n",
    "pred_test = voting_reg.predict(combined_test_df)\n",
    "\n",
    "test_mse = mean_squared_error(y_test, pred_test)\n",
    "\n",
    "test_rmse = np.sqrt(test_mse)\n",
    "\n",
    "print('Test RMSE: {}' .format(test_rmse))"
   ]
  },
  {
   "cell_type": "markdown",
   "metadata": {
    "id": "DO6oYtM8zNMa"
   },
   "source": [
    "## A Boosting model: (1 point)\n",
    "\n",
    "Build either an Adaboost or a GradientBoost model"
   ]
  },
  {
   "cell_type": "code",
   "execution_count": 80,
   "metadata": {
    "colab": {
     "base_uri": "https://localhost:8080/"
    },
    "id": "66S1VSF5zNMa",
    "outputId": "43f37082-07bf-46ed-efb0-68cd28e15790"
   },
   "outputs": [
    {
     "name": "stderr",
     "output_type": "stream",
     "text": [
      "C:\\Users\\Vatsal\\anaconda3\\lib\\site-packages\\sklearn\\utils\\validation.py:63: DataConversionWarning: A column-vector y was passed when a 1d array was expected. Please change the shape of y to (n_samples, ), for example using ravel().\n",
      "  return f(*args, **kwargs)\n"
     ]
    },
    {
     "data": {
      "text/plain": [
       "GradientBoostingRegressor(max_depth=2)"
      ]
     },
     "execution_count": 80,
     "metadata": {},
     "output_type": "execute_result"
    }
   ],
   "source": [
    "# GradientBoosting model\n",
    "\n",
    "from sklearn.ensemble import GradientBoostingRegressor\n",
    "\n",
    "gb_reg = GradientBoostingRegressor(max_depth=2, n_estimators=100, learning_rate=0.1) \n",
    "\n",
    "gb_reg.fit(combined_train_df, y_train)"
   ]
  },
  {
   "cell_type": "code",
   "execution_count": 81,
   "metadata": {
    "colab": {
     "base_uri": "https://localhost:8080/"
    },
    "id": "NCD3noGgzNMb",
    "outputId": "06b147f3-b8b7-49ab-b56d-82ea6f04167a"
   },
   "outputs": [
    {
     "name": "stdout",
     "output_type": "stream",
     "text": [
      "Train Model RMSE: 17306.909612996675\n"
     ]
    }
   ],
   "source": [
    "# Find RMSE value for train data \n",
    "\n",
    "pred_train = gb_reg.predict(combined_train_df)\n",
    "\n",
    "train_mse = mean_squared_error(y_train, pred_train)\n",
    "\n",
    "train_rmse = np.sqrt(train_mse)\n",
    "\n",
    "print('Train Model RMSE: {}' .format(train_rmse))"
   ]
  },
  {
   "cell_type": "code",
   "execution_count": 82,
   "metadata": {
    "colab": {
     "base_uri": "https://localhost:8080/"
    },
    "id": "Y-5kIrdjzNMb",
    "outputId": "e3894cdc-6add-41b7-af3c-5a4cb88aa01f"
   },
   "outputs": [
    {
     "name": "stdout",
     "output_type": "stream",
     "text": [
      "Test RMSE: 20470.859248486668\n"
     ]
    }
   ],
   "source": [
    "# Find RMSE value for test data \n",
    "\n",
    "pred_test = gb_reg.predict(combined_test_df)\n",
    "\n",
    "test_mse = mean_squared_error(y_test, pred_test)\n",
    "\n",
    "test_rmse = np.sqrt(test_mse)\n",
    "\n",
    "print('Test RMSE: {}' .format(test_rmse))"
   ]
  },
  {
   "cell_type": "code",
   "execution_count": 83,
   "metadata": {
    "colab": {
     "base_uri": "https://localhost:8080/"
    },
    "id": "GZpRAV7jT_8b",
    "outputId": "22f8b1e5-4b13-4643-d77f-5086072719d2"
   },
   "outputs": [
    {
     "name": "stderr",
     "output_type": "stream",
     "text": [
      "C:\\Users\\Vatsal\\anaconda3\\lib\\site-packages\\sklearn\\utils\\validation.py:63: DataConversionWarning: A column-vector y was passed when a 1d array was expected. Please change the shape of y to (n_samples, ), for example using ravel().\n",
      "  return f(*args, **kwargs)\n"
     ]
    },
    {
     "data": {
      "text/plain": [
       "GradientBoostingRegressor(learning_rate=0.5, n_estimators=10)"
      ]
     },
     "execution_count": 83,
     "metadata": {},
     "output_type": "execute_result"
    }
   ],
   "source": [
    "gb_reg2 = GradientBoostingRegressor(max_depth=3, n_estimators=10, learning_rate=0.5) \n",
    "\n",
    "gb_reg2.fit(combined_train_df, y_train)"
   ]
  },
  {
   "cell_type": "code",
   "execution_count": 84,
   "metadata": {
    "colab": {
     "base_uri": "https://localhost:8080/"
    },
    "id": "dcNqCS6OT_8c",
    "outputId": "a0174efc-b712-4434-e141-bc2b365903cb"
   },
   "outputs": [
    {
     "name": "stdout",
     "output_type": "stream",
     "text": [
      "Train Model RMSE: 16552.34210515613\n"
     ]
    }
   ],
   "source": [
    "# Find RMSE value for train data \n",
    "\n",
    "pred_train = gb_reg2.predict(combined_train_df)\n",
    "\n",
    "train_mse = mean_squared_error(y_train, pred_train)\n",
    "\n",
    "train_rmse = np.sqrt(train_mse)\n",
    "\n",
    "print('Train Model RMSE: {}' .format(train_rmse))"
   ]
  },
  {
   "cell_type": "code",
   "execution_count": 85,
   "metadata": {
    "colab": {
     "base_uri": "https://localhost:8080/"
    },
    "id": "YoqaA64dT_8c",
    "outputId": "1f6a51c0-aea6-4037-9268-027cb0d30643"
   },
   "outputs": [
    {
     "name": "stdout",
     "output_type": "stream",
     "text": [
      "Test RMSE: 20510.29486856332\n"
     ]
    }
   ],
   "source": [
    "# Find RMSE value for test data \n",
    "\n",
    "pred_test = gb_reg2.predict(combined_test_df)\n",
    "\n",
    "test_mse = mean_squared_error(y_test, pred_test)\n",
    "\n",
    "test_rmse = np.sqrt(test_mse)\n",
    "\n",
    "print('Test RMSE: {}' .format(test_rmse))"
   ]
  },
  {
   "cell_type": "markdown",
   "metadata": {
    "id": "taVuJ2MCzNMb"
   },
   "source": [
    "## Neural network: (1 point)"
   ]
  },
  {
   "cell_type": "code",
   "execution_count": 86,
   "metadata": {
    "colab": {
     "base_uri": "https://localhost:8080/"
    },
    "id": "E-w9M4smzNMb",
    "outputId": "41da3200-e002-4f5a-badf-0e4dc2f2a6c8"
   },
   "outputs": [
    {
     "name": "stderr",
     "output_type": "stream",
     "text": [
      "C:\\Users\\Vatsal\\anaconda3\\lib\\site-packages\\sklearn\\utils\\validation.py:63: DataConversionWarning: A column-vector y was passed when a 1d array was expected. Please change the shape of y to (n_samples, ), for example using ravel().\n",
      "  return f(*args, **kwargs)\n",
      "C:\\Users\\Vatsal\\anaconda3\\lib\\site-packages\\sklearn\\neural_network\\_multilayer_perceptron.py:614: ConvergenceWarning: Stochastic Optimizer: Maximum iterations (200) reached and the optimization hasn't converged yet.\n",
      "  warnings.warn(\n"
     ]
    },
    {
     "data": {
      "text/plain": [
       "MLPRegressor()"
      ]
     },
     "execution_count": 86,
     "metadata": {},
     "output_type": "execute_result"
    }
   ],
   "source": [
    "from sklearn.neural_network import MLPRegressor\n",
    "\n",
    "nn_reg = MLPRegressor(hidden_layer_sizes=(100,))\n",
    "\n",
    "nn_reg.fit(combined_train_df, y_train)"
   ]
  },
  {
   "cell_type": "code",
   "execution_count": 87,
   "metadata": {
    "colab": {
     "base_uri": "https://localhost:8080/"
    },
    "id": "nEblpYlPzNMb",
    "outputId": "ff280c0e-884e-4de9-eaeb-0f1c4909b342"
   },
   "outputs": [
    {
     "name": "stdout",
     "output_type": "stream",
     "text": [
      "Train Model RMSE: 80377.36914340989\n"
     ]
    }
   ],
   "source": [
    "# Find RMSE value for train data \n",
    "\n",
    "pred_train = nn_reg.predict(combined_train_df)\n",
    "\n",
    "train_mse = mean_squared_error(y_train, pred_train)\n",
    "\n",
    "train_rmse = np.sqrt(train_mse)\n",
    "\n",
    "print('Train Model RMSE: {}' .format(train_rmse))"
   ]
  },
  {
   "cell_type": "code",
   "execution_count": 88,
   "metadata": {
    "colab": {
     "base_uri": "https://localhost:8080/"
    },
    "id": "AWKhHL21zNMc",
    "outputId": "f1ea3cab-ab50-4a18-8f69-8a299677716a"
   },
   "outputs": [
    {
     "name": "stdout",
     "output_type": "stream",
     "text": [
      "Test RMSE: 78048.33764506846\n"
     ]
    }
   ],
   "source": [
    "# Find RMSE value for test data \n",
    "\n",
    "pred_test = nn_reg.predict(combined_test_df)\n",
    "\n",
    "test_mse = mean_squared_error(y_test, pred_test)\n",
    "\n",
    "test_rmse = np.sqrt(test_mse)\n",
    "\n",
    "print('Test RMSE: {}' .format(test_rmse))"
   ]
  },
  {
   "cell_type": "code",
   "execution_count": 89,
   "metadata": {
    "colab": {
     "base_uri": "https://localhost:8080/"
    },
    "id": "vib0E4g_zNMc",
    "outputId": "121489e2-9987-43ca-ef62-4d36d01a54d9"
   },
   "outputs": [
    {
     "name": "stderr",
     "output_type": "stream",
     "text": [
      "C:\\Users\\Vatsal\\anaconda3\\lib\\site-packages\\sklearn\\utils\\validation.py:63: DataConversionWarning: A column-vector y was passed when a 1d array was expected. Please change the shape of y to (n_samples, ), for example using ravel().\n",
      "  return f(*args, **kwargs)\n",
      "C:\\Users\\Vatsal\\anaconda3\\lib\\site-packages\\sklearn\\neural_network\\_multilayer_perceptron.py:614: ConvergenceWarning: Stochastic Optimizer: Maximum iterations (1000) reached and the optimization hasn't converged yet.\n",
      "  warnings.warn(\n"
     ]
    },
    {
     "data": {
      "text/plain": [
       "MLPRegressor(max_iter=1000)"
      ]
     },
     "execution_count": 89,
     "metadata": {},
     "output_type": "execute_result"
    }
   ],
   "source": [
    "# Increasing maximum iterations for convergence\n",
    "\n",
    "nn_reg2 = MLPRegressor(hidden_layer_sizes=(100,), max_iter=1000)\n",
    "\n",
    "nn_reg2.fit(combined_train_df, y_train)"
   ]
  },
  {
   "cell_type": "code",
   "execution_count": 90,
   "metadata": {
    "colab": {
     "base_uri": "https://localhost:8080/"
    },
    "id": "4fFkEmw5zNMc",
    "outputId": "b6207081-2a7b-4f52-dae2-e0367fbb95d6"
   },
   "outputs": [
    {
     "name": "stdout",
     "output_type": "stream",
     "text": [
      "Train Model RMSE: 39637.47578086444\n"
     ]
    }
   ],
   "source": [
    "# Find RMSE value for train data \n",
    "\n",
    "pred_train = nn_reg2.predict(combined_train_df)\n",
    "\n",
    "train_mse = mean_squared_error(y_train, pred_train)\n",
    "\n",
    "train_rmse = np.sqrt(train_mse)\n",
    "\n",
    "print('Train Model RMSE: {}' .format(train_rmse))"
   ]
  },
  {
   "cell_type": "code",
   "execution_count": 91,
   "metadata": {
    "colab": {
     "base_uri": "https://localhost:8080/"
    },
    "id": "UtfcEQ7czNMc",
    "outputId": "5fd771af-8044-4a55-9e44-758b7bd59d9c"
   },
   "outputs": [
    {
     "name": "stdout",
     "output_type": "stream",
     "text": [
      "Test Model RMSE: 37005.83841039419\n"
     ]
    }
   ],
   "source": [
    "# Find RMSE value for test data \n",
    "\n",
    "pred_test = nn_reg2.predict(combined_test_df)\n",
    "\n",
    "test_mse = mean_squared_error(y_test, pred_test)\n",
    "\n",
    "test_rmse = np.sqrt(test_mse)\n",
    "\n",
    "print('Test Model RMSE: {}' .format(test_rmse))"
   ]
  },
  {
   "cell_type": "code",
   "execution_count": 99,
   "metadata": {},
   "outputs": [
    {
     "name": "stderr",
     "output_type": "stream",
     "text": [
      "C:\\Users\\Vatsal\\anaconda3\\lib\\site-packages\\sklearn\\utils\\validation.py:63: DataConversionWarning: A column-vector y was passed when a 1d array was expected. Please change the shape of y to (n_samples, ), for example using ravel().\n",
      "  return f(*args, **kwargs)\n",
      "C:\\Users\\Vatsal\\anaconda3\\lib\\site-packages\\sklearn\\neural_network\\_multilayer_perceptron.py:614: ConvergenceWarning: Stochastic Optimizer: Maximum iterations (200) reached and the optimization hasn't converged yet.\n",
      "  warnings.warn(\n"
     ]
    },
    {
     "data": {
      "text/plain": [
       "MLPRegressor(hidden_layer_sizes=(100, 75, 50, 25))"
      ]
     },
     "execution_count": 99,
     "metadata": {},
     "output_type": "execute_result"
    }
   ],
   "source": [
    "nn_reg3 = MLPRegressor(hidden_layer_sizes=(100,75,50,25))\n",
    "\n",
    "\n",
    "\n",
    "nn_reg3.fit(combined_train_df, y_train)"
   ]
  },
  {
   "cell_type": "code",
   "execution_count": 100,
   "metadata": {},
   "outputs": [
    {
     "name": "stdout",
     "output_type": "stream",
     "text": [
      "Train Model RMSE: 16987.900751636684\n"
     ]
    }
   ],
   "source": [
    "# Find RMSE value for train data \n",
    "\n",
    "\n",
    "\n",
    "pred_train = nn_reg3.predict(combined_train_df)\n",
    "\n",
    "\n",
    "\n",
    "train_mse = mean_squared_error(y_train, pred_train)\n",
    "\n",
    "\n",
    "\n",
    "train_rmse = np.sqrt(train_mse)\n",
    "\n",
    "\n",
    "\n",
    "print('Train Model RMSE: {}' .format(train_rmse))"
   ]
  },
  {
   "cell_type": "code",
   "execution_count": 101,
   "metadata": {},
   "outputs": [
    {
     "name": "stdout",
     "output_type": "stream",
     "text": [
      "Test Model RMSE: 20710.618545442336\n"
     ]
    }
   ],
   "source": [
    "# Find RMSE value for test data \n",
    "\n",
    "\n",
    "\n",
    "pred_test = nn_reg3.predict(combined_test_df)\n",
    "\n",
    "\n",
    "\n",
    "test_mse = mean_squared_error(y_test, pred_test)\n",
    "\n",
    "\n",
    "\n",
    "test_rmse = np.sqrt(test_mse)\n",
    "\n",
    "\n",
    "\n",
    "print('Test Model RMSE: {}' .format(test_rmse))"
   ]
  },
  {
   "cell_type": "markdown",
   "metadata": {
    "id": "d27XsBmqzNMc"
   },
   "source": [
    "## Grid search (2 points)\n",
    "\n",
    "Perform either a full or randomized grid search on any model you want. There has to be at least two parameters for the search. "
   ]
  },
  {
   "cell_type": "code",
   "execution_count": 92,
   "metadata": {
    "colab": {
     "base_uri": "https://localhost:8080/"
    },
    "id": "I13VDXQ5zNMc",
    "outputId": "641ba05e-e22b-4287-8c22-bba7b42e073e"
   },
   "outputs": [
    {
     "data": {
      "text/plain": [
       "GridSearchCV(cv=5, estimator=DecisionTreeRegressor(), n_jobs=1,\n",
       "             param_grid={'max_depth': range(1, 11),\n",
       "                         'min_samples_split': range(10, 60, 10)},\n",
       "             scoring='neg_mean_squared_error')"
      ]
     },
     "execution_count": 92,
     "metadata": {},
     "output_type": "execute_result"
    }
   ],
   "source": [
    "# Full Grid Search \n",
    "\n",
    "from sklearn.model_selection import GridSearchCV\n",
    "\n",
    "dt_reg_model = DecisionTreeRegressor()\n",
    "\n",
    "param_grid = {'max_depth': range(1, 11),\n",
    "              'min_samples_split': range(10, 60, 10)}           \n",
    "\n",
    "grid_search = GridSearchCV(dt_reg_model,param_grid, cv=5, n_jobs=1, scoring='neg_mean_squared_error')           \n",
    "\n",
    "grid_search.fit(combined_train_df, y_train)"
   ]
  },
  {
   "cell_type": "code",
   "execution_count": 93,
   "metadata": {
    "colab": {
     "base_uri": "https://localhost:8080/"
    },
    "id": "kc2XtRNszNMd",
    "outputId": "08204104-9e97-42b9-8767-9f6952afbe62"
   },
   "outputs": [
    {
     "name": "stdout",
     "output_type": "stream",
     "text": [
      "28945.884933338206 {'max_depth': 1, 'min_samples_split': 10}\n",
      "28945.884933338206 {'max_depth': 1, 'min_samples_split': 20}\n",
      "28945.884933338206 {'max_depth': 1, 'min_samples_split': 30}\n",
      "28945.884933338206 {'max_depth': 1, 'min_samples_split': 40}\n",
      "28945.884933338206 {'max_depth': 1, 'min_samples_split': 50}\n",
      "28341.562355639035 {'max_depth': 2, 'min_samples_split': 10}\n",
      "28341.562355639035 {'max_depth': 2, 'min_samples_split': 20}\n",
      "28341.562355639035 {'max_depth': 2, 'min_samples_split': 30}\n",
      "28341.562355639035 {'max_depth': 2, 'min_samples_split': 40}\n",
      "28341.562355639035 {'max_depth': 2, 'min_samples_split': 50}\n",
      "28051.512828906783 {'max_depth': 3, 'min_samples_split': 10}\n",
      "28051.512828906783 {'max_depth': 3, 'min_samples_split': 20}\n",
      "28062.86939015294 {'max_depth': 3, 'min_samples_split': 30}\n",
      "28062.86939015294 {'max_depth': 3, 'min_samples_split': 40}\n",
      "28062.86939015294 {'max_depth': 3, 'min_samples_split': 50}\n",
      "27522.87957371677 {'max_depth': 4, 'min_samples_split': 10}\n",
      "27444.347373495933 {'max_depth': 4, 'min_samples_split': 20}\n",
      "27385.0150960116 {'max_depth': 4, 'min_samples_split': 30}\n",
      "27587.23834689863 {'max_depth': 4, 'min_samples_split': 40}\n",
      "27469.484436349616 {'max_depth': 4, 'min_samples_split': 50}\n",
      "26628.72639870164 {'max_depth': 5, 'min_samples_split': 10}\n",
      "26321.095123809097 {'max_depth': 5, 'min_samples_split': 20}\n",
      "26432.051465367298 {'max_depth': 5, 'min_samples_split': 30}\n",
      "26537.651865728672 {'max_depth': 5, 'min_samples_split': 40}\n",
      "26672.43171287055 {'max_depth': 5, 'min_samples_split': 50}\n",
      "25511.266522807702 {'max_depth': 6, 'min_samples_split': 10}\n",
      "25721.122341358976 {'max_depth': 6, 'min_samples_split': 20}\n",
      "25785.7445176286 {'max_depth': 6, 'min_samples_split': 30}\n",
      "25773.766870617786 {'max_depth': 6, 'min_samples_split': 40}\n",
      "25888.316380669712 {'max_depth': 6, 'min_samples_split': 50}\n",
      "24948.128478984963 {'max_depth': 7, 'min_samples_split': 10}\n",
      "25066.33673500674 {'max_depth': 7, 'min_samples_split': 20}\n",
      "25107.277068073356 {'max_depth': 7, 'min_samples_split': 30}\n",
      "25478.443368194723 {'max_depth': 7, 'min_samples_split': 40}\n",
      "25375.541711038826 {'max_depth': 7, 'min_samples_split': 50}\n",
      "24903.41738704503 {'max_depth': 8, 'min_samples_split': 10}\n",
      "24563.966764129033 {'max_depth': 8, 'min_samples_split': 20}\n",
      "25091.337062319933 {'max_depth': 8, 'min_samples_split': 30}\n",
      "25141.203796872007 {'max_depth': 8, 'min_samples_split': 40}\n",
      "25110.627358114645 {'max_depth': 8, 'min_samples_split': 50}\n",
      "24774.035758095735 {'max_depth': 9, 'min_samples_split': 10}\n",
      "24748.17169836844 {'max_depth': 9, 'min_samples_split': 20}\n",
      "25042.085181405022 {'max_depth': 9, 'min_samples_split': 30}\n",
      "24727.460204692914 {'max_depth': 9, 'min_samples_split': 40}\n",
      "25389.686070892356 {'max_depth': 9, 'min_samples_split': 50}\n",
      "24636.818418771836 {'max_depth': 10, 'min_samples_split': 10}\n",
      "24668.285194220996 {'max_depth': 10, 'min_samples_split': 20}\n",
      "24818.16678011508 {'max_depth': 10, 'min_samples_split': 30}\n",
      "25155.626700666242 {'max_depth': 10, 'min_samples_split': 40}\n",
      "25048.794834216842 {'max_depth': 10, 'min_samples_split': 50}\n"
     ]
    }
   ],
   "source": [
    "cvres = grid_search.cv_results_\n",
    "\n",
    "for mean_score, params in zip(cvres[\"mean_test_score\"], cvres[\"params\"]):\n",
    "    print(np.sqrt(-mean_score), params)"
   ]
  },
  {
   "cell_type": "code",
   "execution_count": 94,
   "metadata": {
    "colab": {
     "base_uri": "https://localhost:8080/"
    },
    "id": "bXsQQJ33zNMd",
    "outputId": "1ba9eeda-914b-4c79-dd20-18a5f9e95364"
   },
   "outputs": [
    {
     "data": {
      "text/plain": [
       "{'max_depth': 8, 'min_samples_split': 20}"
      ]
     },
     "execution_count": 94,
     "metadata": {},
     "output_type": "execute_result"
    }
   ],
   "source": [
    "grid_search.best_params_"
   ]
  },
  {
   "cell_type": "code",
   "execution_count": 95,
   "metadata": {
    "colab": {
     "base_uri": "https://localhost:8080/"
    },
    "id": "2MtGPjqwzNMd",
    "outputId": "b4523bb1-119c-43e8-eab8-3e1c87768f1b"
   },
   "outputs": [
    {
     "data": {
      "text/plain": [
       "DecisionTreeRegressor(max_depth=8, min_samples_split=20)"
      ]
     },
     "execution_count": 95,
     "metadata": {},
     "output_type": "execute_result"
    }
   ],
   "source": [
    "grid_search.best_estimator_"
   ]
  },
  {
   "cell_type": "code",
   "execution_count": 102,
   "metadata": {
    "colab": {
     "base_uri": "https://localhost:8080/"
    },
    "id": "YkKVPGcpzNMd",
    "outputId": "3cf2aa4d-9ec6-41a1-c1f0-3a9a4e7732e6"
   },
   "outputs": [
    {
     "data": {
      "text/plain": [
       "GridSearchCV(cv=5, estimator=DecisionTreeRegressor(), n_jobs=1,\n",
       "             param_grid={'max_depth': [8], 'min_samples_split': [20]},\n",
       "             scoring='neg_mean_squared_error')"
      ]
     },
     "execution_count": 102,
     "metadata": {},
     "output_type": "execute_result"
    }
   ],
   "source": [
    "# using the best params \n",
    "\n",
    "param_grid = {'max_depth': [8],\n",
    "              'min_samples_split': [20]}           \n",
    "\n",
    "grid_search = GridSearchCV(dt_reg_model,param_grid, cv=5, n_jobs=1, scoring='neg_mean_squared_error')           \n",
    "\n",
    "grid_search.fit(combined_train_df, y_train)"
   ]
  },
  {
   "cell_type": "code",
   "execution_count": 103,
   "metadata": {
    "colab": {
     "base_uri": "https://localhost:8080/"
    },
    "id": "3XAMYKpKzNMd",
    "outputId": "ef12f669-9e97-4087-e768-b05dad60bdf9"
   },
   "outputs": [
    {
     "name": "stdout",
     "output_type": "stream",
     "text": [
      "Train Model RMSE value: 18613.655133042237\n"
     ]
    }
   ],
   "source": [
    "# Find RMSE value for train data \n",
    "\n",
    "pred_train = grid_search.best_estimator_.predict(combined_train_df)\n",
    "\n",
    "train_mse = mean_squared_error(y_train, pred_train)\n",
    "\n",
    "train_rmse = np.sqrt(train_mse)\n",
    "\n",
    "print('Train Model RMSE value: {}' .format(train_rmse))"
   ]
  },
  {
   "cell_type": "code",
   "execution_count": 104,
   "metadata": {
    "colab": {
     "base_uri": "https://localhost:8080/"
    },
    "id": "UMlyT7R7zNMd",
    "outputId": "5db0a519-68e8-4de4-edf7-0e9569c2f12a"
   },
   "outputs": [
    {
     "name": "stdout",
     "output_type": "stream",
     "text": [
      "Test RMSE: 23075.280739922597\n"
     ]
    }
   ],
   "source": [
    "#Test RMSE\n",
    "pred_test = grid_search.best_estimator_.predict(combined_test_df)\n",
    "\n",
    "test_mse = mean_squared_error(y_test, pred_test)\n",
    "\n",
    "test_rmse = np.sqrt(test_mse)\n",
    "\n",
    "print('Test RMSE: {}' .format(test_rmse))"
   ]
  },
  {
   "cell_type": "markdown",
   "metadata": {
    "id": "hBSAp-R8zNMd"
   },
   "source": [
    "# Discussion (5 points in total)\n"
   ]
  },
  {
   "cell_type": "markdown",
   "metadata": {
    "id": "DrbNi5bGzNMe"
   },
   "source": [
    "## List the train and test values of each model you built (2 points)"
   ]
  },
  {
   "cell_type": "markdown",
   "metadata": {
    "id": "YPv6UzCAzNMe"
   },
   "source": [
    "***Decision Tree***\n",
    "\n",
    "*1st Model:-*\n",
    "\n",
    "Train RMSE : 15653.74\n",
    "\n",
    "Test RMSE : 23182.66\n",
    "\n",
    "*2nd Model:-*\n",
    "\n",
    "Train RMSE : 16229.40\n",
    "\n",
    "Test RMSE : 22710.14\n",
    "\n",
    "---\n",
    "\n",
    "***Voting Regressor***\n",
    "\n",
    "*1st Model(Using DT, SVR, SGD):-*\n",
    "\n",
    "Train RMSE : 15341.88\n",
    "\n",
    "Test RMSE : 18735.00\n",
    "\n",
    "*2nd Model(Using DT, SGD, RF):-*\n",
    "\n",
    "Train RMSE : 8550.78\n",
    "\n",
    "Test RMSE : 16073.24\n",
    "\n",
    "*3rd Model(weights parameter DT, SGD, RF):-*\n",
    "\n",
    "Train RMSE : 6371.48\n",
    "\n",
    "Test RMSE : 17015.05\n",
    "\n",
    "*4th Model(with different weights for different algorithms ):-*\n",
    "\n",
    "Train RMSE : 7040.79\n",
    "\n",
    "Test RMSE : 15636.34\n",
    "\n",
    "\n",
    "---\n",
    "\n",
    "\n",
    "\n",
    "***Gradient Boosting***\n",
    "\n",
    "*1st Model:-*\n",
    "\n",
    "Train RMSE : 17306.90\n",
    "\n",
    "Test RMSE : 20470.85\n",
    "\n",
    "*2nd Model (with different parameters):-*\n",
    "\n",
    "Train RMSE : 16552.34\n",
    "\n",
    "Test RMSE : 20510.29\n",
    "\n",
    "\n",
    "\n",
    "---\n",
    "\n",
    "\n",
    "\n",
    "***Neural Networks***\n",
    "\n",
    "*1st Model:-*\n",
    "\n",
    "Train RMSE : 80377.36\n",
    "\n",
    "Test RMSE : 78048.33\n",
    "\n",
    "*2nd Model (increasing maximum iterations) :-*\n",
    "\n",
    "Train RMSE : 39637.47\n",
    "\n",
    "Test RMSE : 37005.83\n",
    "\n",
    "*3rd Model (using pipeline):-*\n",
    "\n",
    "Train RMSE : 16987\n",
    "\n",
    "Test RMSE : 20710\n",
    "\n",
    "\n",
    "\n",
    "---\n",
    "\n",
    "\n",
    "\n",
    "***Full Grid Search***\n",
    "\n",
    "Train RMSE : 18613.65\n",
    "\n",
    "Test RMSE : 23075.28\n",
    "\n"
   ]
  },
  {
   "cell_type": "markdown",
   "metadata": {
    "id": "notVHksVzNMe"
   },
   "source": [
    "## Which model performs the best and why? (0.5 points) \n",
    "## How does it compare to baseline? (0.5 points)\n",
    "\n",
    "Hint: The best model is the one that has the highest TEST score (regardless of any of the training values). If you select your model based on TRAIN values, you will lose points."
   ]
  },
  {
   "cell_type": "raw",
   "metadata": {
    "id": "hUz0BoBAzNMe"
   },
   "source": [
    "Fourth model of Voting Regressor(Using different weights for DecisionTreeRegressor, Stochastic Gradient Descent, Random Forest Regressor) is the best model as per mentioned above. Best result came out due to rebalancing of weights among algorithms stroke the best of three in efficient manner.\n",
    "    \n",
    "Because it has the least Test RMSE value:15636 (best test score among all models) whereas, Baseline RMSE value is 28294 (which is way higher than winning model)\n",
    "      "
   ]
  },
  {
   "cell_type": "markdown",
   "metadata": {
    "id": "coA0oIlMzNMe"
   },
   "source": [
    "## Is there any evidence of overfitting in the best model, why or why not? If there is, what did you do about it? (1 point)"
   ]
  },
  {
   "cell_type": "raw",
   "metadata": {
    "id": "k9rVCLV3zNMe"
   },
   "source": [
    "In Voting Regressor with weights parameter(3rd model), more weights are assigned to Decision Tree as a result of which it got overfitted so tried to shed some weight from Decision tree and made Random Forest at par with it which resulted in best model (4th model) even compared to all other algorithms also."
   ]
  },
  {
   "cell_type": "markdown",
   "metadata": {
    "id": "qKmYeDWyzNMe"
   },
   "source": [
    "## Is there any overfitting in the other models (besides the best model), why or why not? If there is, what did you do about it? (1 point)"
   ]
  },
  {
   "cell_type": "raw",
   "metadata": {
    "id": "edlRpxBbzNMe"
   },
   "source": [
    "In Decision Tree we doubled min_samples_leaf and with default max_depth resulted in less overfitting (higher train RMSE and lower test RMSE).\n",
    "\n",
    "Additionally,\n",
    "In neural network we cured grave underfitting using conical kind of pattern as added hidden layers in third model which dramatically revamped the model (but not enough to compete with other models)."
   ]
  }
 ],
 "metadata": {
  "colab": {
   "name": "Assessment 2 [Group 13].ipynb",
   "provenance": []
  },
  "kernelspec": {
   "display_name": "Python 3 (ipykernel)",
   "language": "python",
   "name": "python3"
  },
  "language_info": {
   "codemirror_mode": {
    "name": "ipython",
    "version": 3
   },
   "file_extension": ".py",
   "mimetype": "text/x-python",
   "name": "python",
   "nbconvert_exporter": "python",
   "pygments_lexer": "ipython3",
   "version": "3.7.8"
  },
  "toc": {
   "base_numbering": 1,
   "nav_menu": {},
   "number_sections": false,
   "sideBar": true,
   "skip_h1_title": false,
   "title_cell": "Table of Contents",
   "title_sidebar": "Contents",
   "toc_cell": false,
   "toc_position": {},
   "toc_section_display": true,
   "toc_window_display": false
  }
 },
 "nbformat": 4,
 "nbformat_minor": 1
}
